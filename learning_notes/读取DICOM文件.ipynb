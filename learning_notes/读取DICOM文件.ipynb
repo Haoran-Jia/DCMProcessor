{
 "cells": [
  {
   "cell_type": "markdown",
   "id": "bc14c618",
   "metadata": {},
   "source": [
    "# 读取单张DICOM文件"
   ]
  },
  {
   "cell_type": "markdown",
   "id": "759cf553",
   "metadata": {},
   "source": [
    "## 只读取Meta_Data\n",
    "节省内存，不读取像素数据。使用`sitk.ImageFileReader()`类"
   ]
  },
  {
   "cell_type": "markdown",
   "id": "21895f76",
   "metadata": {},
   "source": [
    "### 设置一个reader"
   ]
  },
  {
   "cell_type": "code",
   "execution_count": 1,
   "id": "a4fd6ba6",
   "metadata": {
    "scrolled": true
   },
   "outputs": [],
   "source": [
    "import SimpleITK as sitk\n",
    "\n",
    "# 实例化一个\"图像文件读取器\"\n",
    "reader = sitk.ImageFileReader()\n",
    "\n",
    "# 设置reader要读取的文件地址\n",
    "reader.SetFileName(\"dicom/0a13d5e1-192a-0e69-864b-8533fbe1b5d3.dcm\")"
   ]
  },
  {
   "cell_type": "code",
   "execution_count": 2,
   "id": "e6244096",
   "metadata": {
    "code_folding": []
   },
   "outputs": [],
   "source": [
    "# 读取信息前, 没有MetaData"
   ]
  },
  {
   "cell_type": "markdown",
   "id": "2d8de5ba",
   "metadata": {},
   "source": [
    "### 读取信息,获取Tag"
   ]
  },
  {
   "cell_type": "code",
   "execution_count": 3,
   "id": "4a115346",
   "metadata": {
    "code_folding": []
   },
   "outputs": [],
   "source": [
    "# 读取图片的信息\n",
    "reader.ReadImageInformation()"
   ]
  },
  {
   "cell_type": "code",
   "execution_count": 4,
   "id": "c0b00c15",
   "metadata": {
    "scrolled": false
   },
   "outputs": [
    {
     "name": "stdout",
     "output_type": "stream",
     "text": [
      "数据类型: <class 'tuple'>\n",
      "标签数量: 113\n",
      "('0008|0005', '0008|0008', '0008|0012', '0008|0013', '0008|0016', '0008|0018', '0008|0020', '0008|0021', '0008|0022', '0008|0023', '0008|0030', '0008|0031', '0008|0032', '0008|0033', '0008|0050', '0008|0060', '0008|0061', '0008|0070', '0008|0080', '0008|0081', '0008|0090', '0008|0092', '0008|0094', '0008|1010', '0008|1030', '0008|103e', '0008|1040', '0008|1048', '0008|1050', '0008|1060', '0008|1070', '0008|1090', '0008|3010', '0010|0010', '0010|0020', '0010|0021', '0010|0030', '0010|0032', '0010|0040', '0010|1000', '0010|1001', '0010|1005', '0010|1010', '0010|1040', '0010|1060', '0010|2154', '0010|21b0', '0012|0010', '0012|0020', '0012|0021', '0012|0030', '0012|0031', '0012|0040', '0018|0022', '0018|0050', '0018|0060', '0018|0088', '0018|0090', '0018|1000', '0018|1020', '0018|1030', '0018|1100', '0018|1110', '0018|1111', '0018|1120', '0018|1130', '0018|1140', '0018|1150', '0018|1151', '0018|1152', '0018|1160', '0018|1170', '0018|1190', '0018|1210', '0018|5100', '0018|9305', '0018|9306', '0018|9307', '0018|9309', '0018|9310', '0018|9311', '0020|000d', '0020|000e', '0020|0010', '0020|0011', '0020|0012', '0020|0013', '0020|0032', '0020|0037', '0020|0052', '0020|1040', '0020|1041', '0020|1208', '0028|0002', '0028|0004', '0028|0010', '0028|0011', '0028|0030', '0028|0100', '0028|0101', '0028|0102', '0028|0103', '0028|0120', '0028|1050', '0028|1051', '0028|1052', '0028|1053', '0028|1054', '0040|0244', '0040|0245', '0040|0253', '0040|0254', '0040|1008')\n"
     ]
    }
   ],
   "source": [
    "# 获取Meta data的Tag, 返回一个包含所有tag的元组\n",
    "MetaDataKeys = reader.GetMetaDataKeys()\n",
    "print(f\"数据类型: {type(MetaDataKeys)}\")\n",
    "print(f\"标签数量: {len(MetaDataKeys)}\")\n",
    "print(reader.GetMetaDataKeys())"
   ]
  },
  {
   "cell_type": "markdown",
   "id": "e39212b1",
   "metadata": {},
   "source": [
    "For efficiency, the default DICOM reader settings will only load public tags (even group numbers). In the example we explicitly set the reader to also load private tags (odd group numbers).\n",
    "> \"Tag\"与\"key\"指代相同, \"Tag\"是DICOM的术语, \"key\"在Python中指Tag的字典"
   ]
  },
  {
   "cell_type": "code",
   "execution_count": 5,
   "id": "659e0e3a",
   "metadata": {
    "scrolled": true
   },
   "outputs": [
    {
     "name": "stdout",
     "output_type": "stream",
     "text": [
      "数据类型: <class 'tuple'>\n",
      "标签数量: 148\n",
      "('0008|0005', '0008|0008', '0008|0012', '0008|0013', '0008|0016', '0008|0018', '0008|0020', '0008|0021', '0008|0022', '0008|0023', '0008|0030', '0008|0031', '0008|0032', '0008|0033', '0008|0050', '0008|0060', '0008|0061', '0008|0070', '0008|0080', '0008|0081', '0008|0090', '0008|0092', '0008|0094', '0008|1010', '0008|1030', '0008|103e', '0008|1040', '0008|1048', '0008|1050', '0008|1060', '0008|1070', '0008|1090', '0008|3010', '0009|0010', '0010|0010', '0010|0020', '0010|0021', '0010|0030', '0010|0032', '0010|0040', '0010|1000', '0010|1001', '0010|1005', '0010|1010', '0010|1040', '0010|1060', '0010|2154', '0010|21b0', '0012|0010', '0012|0020', '0012|0021', '0012|0030', '0012|0031', '0012|0040', '0018|0022', '0018|0050', '0018|0060', '0018|0088', '0018|0090', '0018|1000', '0018|1020', '0018|1030', '0018|1100', '0018|1110', '0018|1111', '0018|1120', '0018|1130', '0018|1140', '0018|1150', '0018|1151', '0018|1152', '0018|1160', '0018|1170', '0018|1190', '0018|1210', '0018|5100', '0018|9305', '0018|9306', '0018|9307', '0018|9309', '0018|9310', '0018|9311', '0019|0010', '0020|000d', '0020|000e', '0020|0010', '0020|0011', '0020|0012', '0020|0013', '0020|0032', '0020|0037', '0020|0052', '0020|1040', '0020|1041', '0020|1208', '0021|0010', '0023|0010', '0027|0010', '0028|0002', '0028|0004', '0028|0010', '0028|0011', '0028|0030', '0028|0100', '0028|0101', '0028|0102', '0028|0103', '0028|0120', '0028|1050', '0028|1051', '0028|1052', '0028|1053', '0028|1054', '0040|0244', '0040|0245', '0040|0253', '0040|0254', '0040|1008', '0043|0010', '0045|0010', '0053|0010', '07a1|0010', '07a1|1002', '07a1|102a', '07a1|1042', '07a1|1043', '07a1|1050', '07a1|1058', '07a1|105f', '07a1|1085', '07a1|1088', '07a1|1098', '07a1|10d0', '07a3|0010', '07a3|1001', '07a3|1003', '07a3|1034', '07a3|1055', '07a3|105c', '07a3|108f', '07a3|109c', '07a3|10b9', '07a3|10bb', '07a5|0010', '07a5|1056', '07a5|1059', '07a5|10ae', '07a5|10c8')\n"
     ]
    }
   ],
   "source": [
    "# 获取private tags(默认不获取)\n",
    "reader.LoadPrivateTagsOn()\n",
    "# 再次读取信息, 并获取MetaDataKeys\n",
    "reader.ReadImageInformation()\n",
    "MetaDataKeys = reader.GetMetaDataKeys()\n",
    "print(f\"数据类型: {type(MetaDataKeys)}\")\n",
    "print(f\"标签数量: {len(MetaDataKeys)}\")\n",
    "print(reader.GetMetaDataKeys())"
   ]
  },
  {
   "cell_type": "markdown",
   "id": "ea9c8fae",
   "metadata": {},
   "source": [
    "### 获取Tag的具体值 `reader.GetMetaData()`"
   ]
  },
  {
   "cell_type": "code",
   "execution_count": 6,
   "id": "82c0c64f",
   "metadata": {},
   "outputs": [
    {
     "name": "stdout",
     "output_type": "stream",
     "text": [
      "SeriesDescription:\t 5mm Stnd\n",
      "SliceLocation:\t\t -301.000\n",
      "XRayTubeCurrent:\t 340 \n",
      "Exposure:\t\t 25\n",
      "\n",
      "ImagePositionPatient:\t -194.200\\-200.000\\-301.000\n",
      "\n",
      "SeriesInstanceUID:\t 1.2.840.113619.2.340.3.2831197716.701.1581465146.240\n"
     ]
    }
   ],
   "source": [
    "print(\"SeriesDescription:\\t\", reader.GetMetaData(\"0008|103e\"))\n",
    "print(\"SliceLocation:\\t\\t\", reader.GetMetaData(\"0020|1041\"))\n",
    "print(\"XRayTubeCurrent:\\t\", reader.GetMetaData(\"0018|1151\"))\n",
    "print(\"Exposure:\\t\\t\", reader.GetMetaData(\"0018|1152\"))\n",
    "print()\n",
    "print(\"ImagePositionPatient:\\t\", reader.GetMetaData(\"0020|0032\"))\n",
    "print()\n",
    "print(\"SeriesInstanceUID:\\t\", reader.GetMetaData(\"0020|000e\"))"
   ]
  },
  {
   "cell_type": "code",
   "execution_count": 7,
   "id": "df3a4313",
   "metadata": {},
   "outputs": [
    {
     "name": "stdout",
     "output_type": "stream",
     "text": [
      "(0008|0005) = = \"ISO_IR 100\"\n",
      "(0008|0008) = = \"ORIGINAL\\PRIMARY\\AXIAL\"\n",
      "(0008|0012) = = \"20200212\"\n",
      "(0008|0013) = = \"162522\"\n",
      "(0008|0016) = = \"1.2.840.10008.5.1.4.1.1.2\"\n",
      "(0008|0018) = = \"1.2.840.113619.2.340.3.2831197716.701.1581465146.242.37\"\n",
      "(0008|0020) = = \"20200212\"\n",
      "(0008|0021) = = \"20200212\"\n",
      "(0008|0022) = = \"20200212\"\n",
      "(0008|0023) = = \"20200212\"\n",
      "(0008|0030) = = \"162349\"\n",
      "(0008|0031) = = \"162444\"\n",
      "(0008|0032) = = \"162503.959012 \"\n",
      "(0008|0033) = = \"162522\"\n",
      "(0008|0050) = = \"CT202002120113\"\n",
      "(0008|0060) = = \"CT\"\n",
      "(0008|0061) = = \"CT\"\n",
      "(0008|0070) = = \"GE MEDICAL SYSTEMS\"\n",
      "(0008|0080) = = \"\"\n",
      "(0008|0081) = = \"\"\n",
      "(0008|0090) = = \"\"\n",
      "(0008|0092) = = \"\"\n",
      "(0008|0094) = = \"\"\n",
      "(0008|1010) = = \"ct99\"\n",
      "(0008|1030) = = \"a \"\n",
      "(0008|103e) = = \"5mm Stnd\"\n",
      "(0008|1040) = = \"\"\n",
      "(0008|1048) = = \"\"\n",
      "(0008|1050) = = \"\"\n",
      "(0008|1060) = = \"\"\n",
      "(0008|1070) = = \"Anonymized\"\n",
      "(0008|1090) = = \"Discovery CT\"\n",
      "(0008|3010) = = \"1.2.840.113619.2.340.3.2831197716.701.1581465146.241\"\n",
      "(0009|0010) = = \"GEMS_IDEN_01\"\n",
      "(0010|0010) = = \"Anonymized\"\n",
      "(0010|0020) = = \"P0566783\"\n",
      "(0010|0021) = = \"\"\n",
      "(0010|0030) = = \"\"\n",
      "(0010|0032) = = \"\"\n",
      "(0010|0040) = = \"F \"\n",
      "(0010|1000) = = \"\"\n",
      "(0010|1001) = = \"Anonymized\"\n",
      "(0010|1005) = = \"Anonymized\"\n",
      "(0010|1010) = = \"040Y\"\n",
      "(0010|1040) = = \"\"\n",
      "(0010|1060) = = \"Anonymized\"\n",
      "(0010|2154) = = \"\"\n",
      "(0010|21b0) = = \"\"\n",
      "(0012|0010) = = \"\"\n",
      "(0012|0020) = = \"\"\n",
      "(0012|0021) = = \"\"\n",
      "(0012|0030) = = \"\"\n",
      "(0012|0031) = = \"\"\n",
      "(0012|0040) = = \"S0006 \"\n",
      "(0018|0022) = = \"HELICAL MODE\"\n",
      "(0018|0050) = = \"5.000000\"\n",
      "(0018|0060) = = \"120 \"\n",
      "(0018|0088) = = \"5.000000\"\n",
      "(0018|0090) = = \"500.000000\"\n",
      "(0018|1000) = = \"* \"\n",
      "(0018|1020) = = \"sles_hde.132\"\n",
      "(0018|1030) = = \"5.1 Chest \"\n",
      "(0018|1100) = = \"400.000000\"\n",
      "(0018|1110) = = \"946.746000\"\n",
      "(0018|1111) = = \"538.520000\"\n",
      "(0018|1120) = = \"0.000000\"\n",
      "(0018|1130) = = \"116.000000\"\n",
      "(0018|1140) = = \"CW\"\n",
      "(0018|1150) = = \"600 \"\n",
      "(0018|1151) = = \"340 \"\n",
      "(0018|1152) = = \"25\"\n",
      "(0018|1160) = = \"BODY FILTER \"\n",
      "(0018|1170) = = \"42000 \"\n",
      "(0018|1190) = = \"0.700000\"\n",
      "(0018|1210) = = \"STANDARD\"\n",
      "(0018|5100) = = \"HFS \"\n",
      "(0018|9305) = = \"0.6\"\n",
      "(0018|9306) = = \"0.625\"\n",
      "(0018|9307) = = \"40\"\n",
      "(0018|9309) = = \"65.625\"\n",
      "(0018|9310) = = \"39.375\"\n",
      "(0018|9311) = = \"0.984375\"\n",
      "(0019|0010) = = \"GEMS_ACQU_01\"\n",
      "(0020|000d) = = \"1.2.840.113619.2.340.3.2831197716.701.1581465146.233\"\n",
      "(0020|000e) = = \"1.2.840.113619.2.340.3.2831197716.701.1581465146.240\"\n",
      "(0020|0010) = = \"7185\"\n",
      "(0020|0011) = = \"2 \"\n",
      "(0020|0012) = = \"1 \"\n",
      "(0020|0013) = = \"37\"\n",
      "(0020|0032) = = \"-194.200\\-200.000\\-301.000\"\n",
      "(0020|0037) = = \"1.000000\\0.000000\\0.000000\\0.000000\\1.000000\\0.000000 \"\n",
      "(0020|0052) = = \"1.2.840.113619.2.340.3.2831197716.701.1581465146.234.10595.1\"\n",
      "(0020|1040) = = \"SN\"\n",
      "(0020|1041) = = \"-301.000\"\n",
      "(0020|1208) = = \"645 \"\n",
      "(0021|0010) = = \"GEMS_RELA_01\"\n",
      "(0023|0010) = = \"GEMS_STDY_01\"\n",
      "(0027|0010) = = \"GEMS_IMAG_01\"\n",
      "(0028|0002) = = \"1\"\n",
      "(0028|0004) = = \"MONOCHROME2 \"\n",
      "(0028|0010) = = \"512\"\n",
      "(0028|0011) = = \"512\"\n",
      "(0028|0030) = = \"0.781250\\0.781250 \"\n",
      "(0028|0100) = = \"16\"\n",
      "(0028|0101) = = \"16\"\n",
      "(0028|0102) = = \"15\"\n",
      "(0028|0103) = = \"1\"\n",
      "(0028|0120) = = \"-2000\"\n",
      "(0028|1050) = = \"40\"\n",
      "(0028|1051) = = \"200 \"\n",
      "(0028|1052) = = \"-1024 \"\n",
      "(0028|1053) = = \"1 \"\n",
      "(0028|1054) = = \"HU\"\n",
      "(0040|0244) = = \"20200212\"\n",
      "(0040|0245) = = \"162349\"\n",
      "(0040|0253) = = \"PPS ID   7185 \"\n",
      "(0040|0254) = = \"a \"\n",
      "(0040|1008) = = \"N \"\n",
      "(0043|0010) = = \"GEMS_PARM_01\"\n",
      "(0045|0010) = = \"GEMS_HELIOS_01\"\n",
      "(0053|0010) = = \"GEHC_CT_ADVAPP_001\"\n",
      "(07a1|0010) = = \"ELSCINT1\"\n",
      "(07a1|1002) = = \"65\"\n",
      "(07a1|102a) = = \"UNREAD\"\n",
      "(07a1|1042) = = \"NOT ASSIGNED\"\n",
      "(07a1|1043) = = \"1 \"\n",
      "(07a1|1050) = = \"0\"\n",
      "(07a1|1058) = = \"A \"\n",
      "(07a1|105f) = = \"N \"\n",
      "(07a1|1085) = = \"3\"\n",
      "(07a1|1088) = = \"N \"\n",
      "(07a1|1098) = = \"N \"\n",
      "(07a1|10d0) = = \"25044009353218\"\n",
      "(07a3|0010) = = \"ELSCINT1\"\n",
      "(07a3|1001) = = \"12.1.5.0\"\n",
      "(07a3|1003) = = \"N \"\n",
      "(07a3|1034) = = \"14893 \"\n",
      "(07a3|1055) = = \"N \"\n",
      "(07a3|105c) = = \"0 \"\n",
      "(07a3|108f) = = \"N \"\n",
      "(07a3|109c) = = \"N \"\n",
      "(07a3|10b9) = = \"N \"\n",
      "(07a3|10bb) = = \"N \"\n",
      "(07a5|0010) = = \"ELSCINT1\"\n",
      "(07a5|1056) = = \"N \"\n",
      "(07a5|1059) = = \"1 \"\n",
      "(07a5|10ae) = = \"0 \"\n",
      "(07a5|10c8) = = \"Y \"\n"
     ]
    }
   ],
   "source": [
    "# 通过迭代显示所有Tag的值\n",
    "for k in reader.GetMetaDataKeys():\n",
    "    v = reader.GetMetaData(k)\n",
    "    print(f\"({k}) = = \\\"{v}\\\"\")"
   ]
  },
  {
   "cell_type": "markdown",
   "id": "627d6a22",
   "metadata": {},
   "source": [
    "### 图像其他信息"
   ]
  },
  {
   "cell_type": "code",
   "execution_count": 8,
   "id": "94d560bb",
   "metadata": {},
   "outputs": [
    {
     "name": "stdout",
     "output_type": "stream",
     "text": [
      "Size:\t\t\t (512, 512, 1)\n",
      " Dimention:\t\t 3\n",
      "Number Of Components:\t 1\n",
      "Spacing:\t\t (0.78125, 0.78125, 1.0)\n",
      "Origin:\t\t\t (-194.2, -200.0, -301.0)\n",
      "Direction:\t\t (1.0, 0.0, 0.0, 0.0, 1.0, 0.0, 0.0, 0.0, 1.0)\n",
      "\n",
      "Pixel ID:\t\t 4\n",
      "Pixel ID value:\t\t 4\n",
      "Image Pixel Type:\t 32-bit signed integer\n"
     ]
    }
   ],
   "source": [
    "print(f\"Size:\\t\\t\\t {reader.GetSize()}\")\n",
    "print(f\" Dimention:\\t\\t {reader.GetDimension()}\")\n",
    "print(f\"Number Of Components:\\t {reader.GetNumberOfComponents()}\")\n",
    "print(f\"Spacing:\\t\\t {reader.GetSpacing()}\")\n",
    "print(f\"Origin:\\t\\t\\t {reader.GetOrigin()}\")\n",
    "print(f\"Direction:\\t\\t {reader.GetDirection()}\")\n",
    "\n",
    "print()\n",
    "print(f\"Pixel ID:\\t\\t {reader.GetPixelID()}\")\n",
    "print(f\"Pixel ID value:\\t\\t {reader.GetPixelIDValue()}\")\n",
    "print(f\"Image Pixel Type:\\t {sitk.GetPixelIDValueAsString(reader.GetPixelID())}\")"
   ]
  },
  {
   "cell_type": "markdown",
   "id": "ff9d2da9",
   "metadata": {},
   "source": [
    "## 读取文件内容"
   ]
  },
  {
   "cell_type": "markdown",
   "id": "4734a20a",
   "metadata": {},
   "source": [
    "### 使用`ImageFileReader()`"
   ]
  },
  {
   "cell_type": "code",
   "execution_count": 9,
   "id": "1206c1d6",
   "metadata": {},
   "outputs": [],
   "source": [
    "reader = sitk.ImageFileReader()\n",
    "reader.SetFileName(\"dicom/0a13d5e1-192a-0e69-864b-8533fbe1b5d3.dcm\")"
   ]
  },
  {
   "cell_type": "code",
   "execution_count": 10,
   "id": "cb689bad",
   "metadata": {},
   "outputs": [],
   "source": [
    "# 读取文件内容, 保存为Image类\n",
    "img = reader.Execute()"
   ]
  },
  {
   "cell_type": "code",
   "execution_count": 11,
   "id": "4f729c9e",
   "metadata": {
    "scrolled": true
   },
   "outputs": [
    {
     "name": "stdout",
     "output_type": "stream",
     "text": [
      "Size:\t\t\t (512, 512, 1)\n",
      "Spacing:\t\t (0.78125, 0.78125, 1.0)\n",
      "Origin:\t\t\t (-194.2, -200.0, -301.0)\n",
      "Image Pixel Type:\t 32-bit signed integer\n"
     ]
    }
   ],
   "source": [
    "print(f\"Size:\\t\\t\\t {img.GetSize()}\")\n",
    "print(f\"Spacing:\\t\\t {img.GetSpacing()}\")\n",
    "print(f\"Origin:\\t\\t\\t {img.GetOrigin()}\")\n",
    "print(f\"Image Pixel Type:\\t {sitk.GetPixelIDValueAsString(img.GetPixelID())}\")"
   ]
  },
  {
   "cell_type": "code",
   "execution_count": 12,
   "id": "69ec3f05",
   "metadata": {},
   "outputs": [],
   "source": [
    "# sitk.Show(img)"
   ]
  },
  {
   "cell_type": "markdown",
   "id": "abd1a327",
   "metadata": {},
   "source": [
    "### 使用`ReadImage()`"
   ]
  },
  {
   "cell_type": "code",
   "execution_count": 13,
   "id": "5061a6fb",
   "metadata": {},
   "outputs": [],
   "source": [
    "# 直接读到Image中\n",
    "img = sitk.ReadImage(\"dicom/0a13d5e1-192a-0e69-864b-8533fbe1b5d3.dcm\")"
   ]
  },
  {
   "cell_type": "code",
   "execution_count": 14,
   "id": "20a18a26",
   "metadata": {},
   "outputs": [
    {
     "name": "stdout",
     "output_type": "stream",
     "text": [
      "True\n",
      "20200212\n",
      "('0008|0005', '0008|0008', '0008|0012', '0008|0013', '0008|0016', '0008|0018', '0008|0020', '0008|0021', '0008|0022', '0008|0023', '0008|0030', '0008|0031', '0008|0032', '0008|0033', '0008|0050', '0008|0060', '0008|0061', '0008|0070', '0008|0080', '0008|0081', '0008|0090', '0008|0092', '0008|0094', '0008|1010', '0008|1030', '0008|103e', '0008|1040', '0008|1048', '0008|1050', '0008|1060', '0008|1070', '0008|1090', '0008|3010', '0010|0010', '0010|0020', '0010|0021', '0010|0030', '0010|0032', '0010|0040', '0010|1000', '0010|1001', '0010|1005', '0010|1010', '0010|1040', '0010|1060', '0010|2154', '0010|21b0', '0012|0010', '0012|0020', '0012|0021', '0012|0030', '0012|0031', '0012|0040', '0018|0022', '0018|0050', '0018|0060', '0018|0088', '0018|0090', '0018|1000', '0018|1020', '0018|1030', '0018|1100', '0018|1110', '0018|1111', '0018|1120', '0018|1130', '0018|1140', '0018|1150', '0018|1151', '0018|1152', '0018|1160', '0018|1170', '0018|1190', '0018|1210', '0018|5100', '0018|9305', '0018|9306', '0018|9307', '0018|9309', '0018|9310', '0018|9311', '0020|000d', '0020|000e', '0020|0010', '0020|0011', '0020|0012', '0020|0013', '0020|0032', '0020|0037', '0020|0052', '0020|1040', '0020|1041', '0020|1208', '0028|0002', '0028|0004', '0028|0010', '0028|0011', '0028|0030', '0028|0100', '0028|0101', '0028|0102', '0028|0103', '0028|0120', '0028|1050', '0028|1051', '0028|1052', '0028|1053', '0028|1054', '0040|0244', '0040|0245', '0040|0253', '0040|0254', '0040|1008', 'ITK_original_direction', 'ITK_original_spacing')\n"
     ]
    }
   ],
   "source": [
    "# 对Image也可以用同样的方法获取Meta Data\n",
    "print(img.HasMetaDataKey(\"0008|0012\"))\n",
    "print(img.GetMetaData(\"0008|0012\"))\n",
    "print(img.GetMetaDataKeys())"
   ]
  },
  {
   "cell_type": "markdown",
   "id": "04a3405d",
   "metadata": {},
   "source": [
    "# 读取序列"
   ]
  },
  {
   "cell_type": "markdown",
   "id": "464330e0",
   "metadata": {},
   "source": [
    "## 读取单个序列\n",
    "利用 `ImageSeriesReader()`"
   ]
  },
  {
   "cell_type": "code",
   "execution_count": 15,
   "id": "ce886c76",
   "metadata": {},
   "outputs": [],
   "source": [
    "# 实例化一个\"序列图像读取器\"\n",
    "reader = sitk.ImageSeriesReader()"
   ]
  },
  {
   "cell_type": "code",
   "execution_count": 16,
   "id": "09db4f78",
   "metadata": {},
   "outputs": [
    {
     "name": "stdout",
     "output_type": "stream",
     "text": [
      "数据类型:  <class 'tuple'>\n",
      "文件个数:  65\n",
      "示例:  ('dicom\\\\a2272a76-2470-5590-ed1d-fdaa06e2ffd1.dcm', 'dicom\\\\6e4a5723-4f9f-1fe4-e69b-271a4bce8ee7.dcm')\n"
     ]
    }
   ],
   "source": [
    "# 读取一个文件夹中, 第一个序列的所有文件名\n",
    "dicom_names = reader.GetGDCMSeriesFileNames(\"dicom\")\n",
    "print(\"数据类型: \", type(dicom_names))\n",
    "print(\"文件个数: \", len(dicom_names))\n",
    "print(\"示例: \", dicom_names[0:2])"
   ]
  },
  {
   "cell_type": "code",
   "execution_count": 17,
   "id": "cd44bde1",
   "metadata": {},
   "outputs": [
    {
     "name": "stdout",
     "output_type": "stream",
     "text": [
      "Size:\t (512, 512, 65)\n"
     ]
    }
   ],
   "source": [
    "# 通过获取的文件名读取整个序列\n",
    "reader.SetFileNames(dicom_names)\n",
    "img = reader.Execute()\n",
    "print(f\"Size:\\t {img.GetSize()}\")"
   ]
  },
  {
   "cell_type": "code",
   "execution_count": 18,
   "id": "c1a1ae7f",
   "metadata": {},
   "outputs": [],
   "source": [
    "# sitk.Show(img)"
   ]
  },
  {
   "cell_type": "markdown",
   "id": "6da249ae",
   "metadata": {},
   "source": [
    "## 读取序列Meta Data"
   ]
  },
  {
   "cell_type": "code",
   "execution_count": 19,
   "id": "2b5c2927",
   "metadata": {},
   "outputs": [],
   "source": [
    "# 同理, 实例化读取器,获取文件名,设置文件名\n",
    "reader = sitk.ImageSeriesReader()\n",
    "dicom_names = reader.GetGDCMSeriesFileNames(\"dicom\")\n",
    "reader.SetFileNames(dicom_names)"
   ]
  },
  {
   "cell_type": "code",
   "execution_count": 20,
   "id": "5eefdb21",
   "metadata": {},
   "outputs": [],
   "source": [
    "# 设置要读取Meta data, 若不开启, 读取后无法访问Meta Data\n",
    "reader.MetaDataDictionaryArrayUpdateOn()\n",
    "reader.LoadPrivateTagsOn()"
   ]
  },
  {
   "cell_type": "code",
   "execution_count": 21,
   "id": "2537aad5",
   "metadata": {},
   "outputs": [
    {
     "name": "stdout",
     "output_type": "stream",
     "text": [
      "Size:\t (512, 512, 65)\n"
     ]
    }
   ],
   "source": [
    "img = reader.Execute()\n",
    "print(f\"Size:\\t {img.GetSize()}\")"
   ]
  },
  {
   "cell_type": "markdown",
   "id": "5eb31230",
   "metadata": {},
   "source": [
    "序列的 `GetMetaDataKeys()`等函数, 多了一个slice的输入"
   ]
  },
  {
   "cell_type": "code",
   "execution_count": 22,
   "id": "a7a2aa28",
   "metadata": {},
   "outputs": [
    {
     "name": "stdout",
     "output_type": "stream",
     "text": [
      "150\n",
      "321 \n"
     ]
    }
   ],
   "source": [
    "print(len(reader.GetMetaDataKeys(slice=0)))\n",
    "print(reader.GetMetaData(slice=0, key=\"0018|1151\"))"
   ]
  },
  {
   "cell_type": "markdown",
   "id": "79ba8b07",
   "metadata": {},
   "source": [
    "### 判断tag是否相同"
   ]
  },
  {
   "cell_type": "code",
   "execution_count": 23,
   "id": "16ae739e",
   "metadata": {},
   "outputs": [
    {
     "name": "stdout",
     "output_type": "stream",
     "text": [
      "0008|0005 全等,值为ISO_IR 100\n",
      "0008|0008 全等,值为ORIGINAL\\PRIMARY\\AXIAL\n",
      "0008|0012 全等,值为20200212\n",
      "0008|0013 *************有14个值\n",
      "0008|0016 全等,值为1.2.840.10008.5.1.4.1.1.2\n",
      "0008|0018 *************有65个值\n",
      "0008|0020 全等,值为20200212\n",
      "0008|0021 全等,值为20200212\n",
      "0008|0022 全等,值为20200212\n",
      "0008|0023 全等,值为20200212\n",
      "0008|0030 全等,值为162349\n",
      "0008|0031 全等,值为162444\n",
      "0008|0032 全等,值为162503.959012 \n",
      "0008|0033 *************有14个值\n",
      "0008|0050 全等,值为CT202002120113\n",
      "0008|0060 全等,值为CT\n",
      "0008|0061 全等,值为CT\n",
      "0008|0070 全等,值为GE MEDICAL SYSTEMS\n",
      "0008|0080 全等,值为\n",
      "0008|0081 全等,值为\n",
      "0008|0090 全等,值为\n",
      "0008|0092 全等,值为\n",
      "0008|0094 全等,值为\n",
      "0008|1010 全等,值为ct99\n",
      "0008|1030 全等,值为a \n",
      "0008|103e 全等,值为5mm Stnd\n",
      "0008|1040 全等,值为\n",
      "0008|1048 全等,值为\n",
      "0008|1050 全等,值为\n",
      "0008|1060 全等,值为\n",
      "0008|1070 全等,值为Anonymized\n",
      "0008|1090 全等,值为Discovery CT\n",
      "0008|3010 全等,值为1.2.840.113619.2.340.3.2831197716.701.1581465146.241\n",
      "0009|0010 全等,值为GEMS_IDEN_01\n",
      "0010|0010 全等,值为Anonymized\n",
      "0010|0020 全等,值为P0566783\n",
      "0010|0021 全等,值为\n",
      "0010|0030 全等,值为\n",
      "0010|0032 全等,值为\n",
      "0010|0040 全等,值为F \n",
      "0010|1000 全等,值为\n",
      "0010|1001 全等,值为Anonymized\n",
      "0010|1005 全等,值为Anonymized\n",
      "0010|1010 全等,值为040Y\n",
      "0010|1040 全等,值为\n",
      "0010|1060 全等,值为Anonymized\n",
      "0010|2154 全等,值为\n",
      "0010|21b0 全等,值为\n",
      "0012|0010 全等,值为\n",
      "0012|0020 全等,值为\n",
      "0012|0021 全等,值为\n",
      "0012|0030 全等,值为\n",
      "0012|0031 全等,值为\n",
      "0012|0040 全等,值为S0006 \n",
      "0018|0022 全等,值为HELICAL MODE\n",
      "0018|0050 全等,值为5.000000\n",
      "0018|0060 全等,值为120 \n",
      "0018|0088 全等,值为5.000000\n",
      "0018|0090 全等,值为500.000000\n",
      "0018|1000 全等,值为* \n",
      "0018|1020 全等,值为sles_hde.132\n",
      "0018|1030 全等,值为5.1 Chest \n",
      "0018|1100 全等,值为400.000000\n",
      "0018|1110 全等,值为946.746000\n",
      "0018|1111 全等,值为538.520000\n",
      "0018|1120 全等,值为0.000000\n",
      "0018|1130 全等,值为116.000000\n",
      "0018|1140 全等,值为CW\n",
      "0018|1150 全等,值为600 \n",
      "0018|1151 *************有35个值\n",
      "0018|1152 *************有8个值\n",
      "0018|1160 全等,值为BODY FILTER \n",
      "0018|1170 全等,值为42000 \n",
      "0018|1190 全等,值为0.700000\n",
      "0018|1210 全等,值为STANDARD\n",
      "0018|5100 全等,值为HFS \n",
      "0018|9305 全等,值为0.6\n",
      "0018|9306 全等,值为0.625\n",
      "0018|9307 全等,值为40\n",
      "0018|9309 全等,值为65.625\n",
      "0018|9310 全等,值为39.375\n",
      "0018|9311 全等,值为0.984375\n",
      "0019|0010 全等,值为GEMS_ACQU_01\n",
      "0020|000d 全等,值为1.2.840.113619.2.340.3.2831197716.701.1581465146.233\n",
      "0020|000e 全等,值为1.2.840.113619.2.340.3.2831197716.701.1581465146.240\n",
      "0020|0010 全等,值为7185\n",
      "0020|0011 全等,值为2 \n",
      "0020|0012 全等,值为1 \n",
      "0020|0013 *************有65个值\n",
      "0020|0032 *************有65个值\n",
      "0020|0037 全等,值为1.000000\\0.000000\\0.000000\\0.000000\\1.000000\\0.000000 \n",
      "0020|0052 全等,值为1.2.840.113619.2.340.3.2831197716.701.1581465146.234.10595.1\n",
      "0020|1040 全等,值为SN\n",
      "0020|1041 *************有65个值\n",
      "0020|1208 全等,值为645 \n",
      "0021|0010 全等,值为GEMS_RELA_01\n",
      "0023|0010 全等,值为GEMS_STDY_01\n",
      "0027|0010 全等,值为GEMS_IMAG_01\n",
      "0028|0002 全等,值为1\n",
      "0028|0004 全等,值为MONOCHROME2 \n",
      "0028|0010 全等,值为512\n",
      "0028|0011 全等,值为512\n",
      "0028|0030 全等,值为0.781250\\0.781250 \n",
      "0028|0100 全等,值为16\n",
      "0028|0101 全等,值为16\n",
      "0028|0102 全等,值为15\n",
      "0028|0103 全等,值为1\n",
      "0028|0120 全等,值为-2000\n",
      "0028|1050 全等,值为40\n",
      "0028|1051 全等,值为200 \n",
      "0028|1052 全等,值为-1024 \n",
      "0028|1053 全等,值为1 \n",
      "0028|1054 全等,值为HU\n",
      "0040|0244 全等,值为20200212\n",
      "0040|0245 全等,值为162349\n",
      "0040|0253 全等,值为PPS ID   7185 \n",
      "0040|0254 全等,值为a \n",
      "0040|1008 全等,值为N \n",
      "0043|0010 全等,值为GEMS_PARM_01\n",
      "0045|0010 全等,值为GEMS_HELIOS_01\n",
      "0053|0010 全等,值为GEHC_CT_ADVAPP_001\n",
      "07a1|0010 全等,值为ELSCINT1\n",
      "07a1|1002 全等,值为65\n",
      "07a1|102a 全等,值为UNREAD\n",
      "07a1|1042 全等,值为NOT ASSIGNED\n",
      "07a1|1043 全等,值为1 \n",
      "07a1|1050 全等,值为0\n",
      "07a1|1058 全等,值为A \n",
      "07a1|105f 全等,值为N \n",
      "07a1|1085 全等,值为3\n",
      "07a1|1088 全等,值为N \n",
      "07a1|1098 全等,值为N \n",
      "07a1|10d0 *************有4个值\n",
      "07a3|0010 全等,值为ELSCINT1\n",
      "07a3|1001 全等,值为12.1.5.0\n",
      "07a3|1003 全等,值为N \n",
      "07a3|1034 全等,值为14893 \n",
      "07a3|1055 全等,值为N \n",
      "07a3|105c 全等,值为0 \n",
      "07a3|108f 全等,值为N \n",
      "07a3|109c 全等,值为N \n",
      "07a3|10b9 全等,值为N \n",
      "07a3|10bb 全等,值为N \n",
      "07a5|0010 全等,值为ELSCINT1\n",
      "07a5|1056 全等,值为N \n",
      "07a5|1059 全等,值为1 \n",
      "07a5|10ae 全等,值为0 \n",
      "07a5|10c8 全等,值为Y \n",
      "ITK_original_direction 全等,值为[UNKNOWN_PRINT_CHARACTERISTICS]\n",
      "\n",
      "ITK_original_spacing 全等,值为[UNKNOWN_PRINT_CHARACTERISTICS]\n",
      "\n"
     ]
    }
   ],
   "source": [
    "for key in reader.GetMetaDataKeys(slice=0):\n",
    "    values = []\n",
    "    for slice in range(img.GetSize()[2]):\n",
    "        values.append(reader.GetMetaData(slice, key))\n",
    "    values_set = set(values)\n",
    "    if len(values_set) == 1:\n",
    "        print(f\"{key} 全等,值为{reader.GetMetaData(0, key)}\")\n",
    "    else:\n",
    "        print(f\"{key} *************有{len(values_set)}个值\")"
   ]
  },
  {
   "cell_type": "markdown",
   "id": "a2a989c3",
   "metadata": {},
   "source": [
    "## 保存序列文件为nii"
   ]
  },
  {
   "cell_type": "code",
   "execution_count": 24,
   "id": "dacd9ead",
   "metadata": {},
   "outputs": [],
   "source": [
    "sitk.WriteImage(img, \"saved_dcm_seires.nii\")\n",
    "img = sitk.ReadImage(\"saved_dcm_seires.nii\")\n",
    "# sitk.Show(img,\"nii\")"
   ]
  },
  {
   "cell_type": "markdown",
   "id": "9233a0c4",
   "metadata": {},
   "source": [
    "分析保存后的nii文件"
   ]
  },
  {
   "cell_type": "code",
   "execution_count": 25,
   "id": "7472fcd0",
   "metadata": {},
   "outputs": [
    {
     "name": "stdout",
     "output_type": "stream",
     "text": [
      "Size:\t\t\t (512, 512, 65)\n",
      "Spacing:\t\t (0.78125, 0.78125, 5.0)\n",
      "Origin:\t\t\t (-194.1999969482422, -200.0, -441.0)\n",
      "Image Pixel Type:\t 32-bit signed integer\n"
     ]
    }
   ],
   "source": [
    "# 基本信息可以保留\n",
    "print(f\"Size:\\t\\t\\t {img.GetSize()}\")\n",
    "print(f\"Spacing:\\t\\t {img.GetSpacing()}\")\n",
    "print(f\"Origin:\\t\\t\\t {img.GetOrigin()}\")\n",
    "print(f\"Image Pixel Type:\\t {sitk.GetPixelIDValueAsString(img.GetPixelID())}\")"
   ]
  },
  {
   "cell_type": "code",
   "execution_count": 26,
   "id": "600e7609",
   "metadata": {},
   "outputs": [
    {
     "name": "stdout",
     "output_type": "stream",
     "text": [
      "('ITK_FileNotes', 'ITK_original_direction', 'ITK_original_spacing', 'aux_file', 'bitpix', 'cal_max', 'cal_min', 'datatype', 'descrip', 'dim[0]', 'dim[1]', 'dim[2]', 'dim[3]', 'dim[4]', 'dim[5]', 'dim[6]', 'dim[7]', 'dim_info', 'intent_code', 'intent_name', 'intent_p1', 'intent_p2', 'intent_p3', 'nifti_type', 'pixdim[0]', 'pixdim[1]', 'pixdim[2]', 'pixdim[3]', 'pixdim[4]', 'pixdim[5]', 'pixdim[6]', 'pixdim[7]', 'qform_code', 'qform_code_name', 'qoffset_x', 'qoffset_y', 'qoffset_z', 'quatern_b', 'quatern_c', 'quatern_d', 'scl_inter', 'scl_slope', 'sform_code', 'sform_code_name', 'slice_code', 'slice_duration', 'slice_end', 'slice_start', 'srow_x', 'srow_y', 'srow_z', 'toffset', 'vox_offset', 'xyzt_units')\n"
     ]
    }
   ],
   "source": [
    "# nii文件与dcm文件有不同的Meta Data\n",
    "print(img.GetMetaDataKeys())"
   ]
  },
  {
   "cell_type": "markdown",
   "id": "54eaa613",
   "metadata": {},
   "source": [
    "## 读取所有序列\n",
    "每个序列有一个特定的 `SeriesID`, Tags为 `0020|000e`, 通过 `ImageSeriesReader()` 的\"静态成员函数\"`GetGDCMSeriesIDs()` 来获取文件夹下所有序列的`SeriesID`"
   ]
  },
  {
   "cell_type": "code",
   "execution_count": 27,
   "id": "19bf9565",
   "metadata": {},
   "outputs": [
    {
     "name": "stdout",
     "output_type": "stream",
     "text": [
      "数据类型:  <class 'tuple'>\n",
      "序列数量:  4\n"
     ]
    },
    {
     "data": {
      "text/plain": [
       "('1.2.840.113619.2.340.3.2831197716.701.1581465146.240',\n",
       " '1.2.840.113619.2.340.3.2831197716.701.1581465146.240.3',\n",
       " '1.2.840.113619.2.340.3.2831197716.701.1581465146.240.4',\n",
       " '1.2.840.113619.2.340.3.2831197716.701.1581465146.240.5')"
      ]
     },
     "execution_count": 27,
     "metadata": {},
     "output_type": "execute_result"
    }
   ],
   "source": [
    "# 获取所有的\"序列号\", 静态成员函数不需要与实例绑定调用\n",
    "series_ID = sitk.ImageSeriesReader.GetGDCMSeriesIDs(\"dicom\")\n",
    "print(\"数据类型: \", type(series_ID))\n",
    "print(\"序列数量: \", len(series_ID))\n",
    "series_ID"
   ]
  },
  {
   "cell_type": "code",
   "execution_count": 28,
   "id": "75e3fb2e",
   "metadata": {},
   "outputs": [
    {
     "name": "stdout",
     "output_type": "stream",
     "text": [
      "序列数量:  4\n",
      "序列1中文件数:  65\n",
      "序列2中文件数:  65\n",
      "序列3中文件数:  257\n",
      "序列4中文件数:  257\n",
      "共有644个文件\n"
     ]
    }
   ],
   "source": [
    "# 结合序列号来获取文件夹内dcm文件名, GetGDCMSeriesFileNames同样是静态成员函数\n",
    "# 将所有序列的所有文件名保存\n",
    "series_names = []\n",
    "for serie_ID in series_ID:\n",
    "    series_names.append(sitk.ImageSeriesReader.GetGDCMSeriesFileNames(\"dicom\", serie_ID))\n",
    "\n",
    "print(\"序列数量: \", len(series_names))\n",
    "N = 0\n",
    "for i in range(4):\n",
    "    print(f\"序列{i+1}中文件数: \", len(series_names[i]))\n",
    "    N += len(series_names[i])\n",
    "print(f\"共有{N}个文件\")"
   ]
  },
  {
   "cell_type": "markdown",
   "id": "8124df83",
   "metadata": {},
   "source": [
    "获取了每个系列的文件名, 接下来读取文件的方法与之前一致"
   ]
  },
  {
   "cell_type": "markdown",
   "id": "9c616a0f",
   "metadata": {},
   "source": [
    "# 定位像处理"
   ]
  },
  {
   "cell_type": "code",
   "execution_count": 29,
   "id": "8881522f",
   "metadata": {},
   "outputs": [
    {
     "name": "stdout",
     "output_type": "stream",
     "text": [
      "数据类型:  <class 'tuple'>\n",
      "序列数量:  5\n"
     ]
    },
    {
     "data": {
      "text/plain": [
       "('1.2.840.113619.2.340.3.2831197716.701.1581465146.235',\n",
       " '1.2.840.113619.2.340.3.2831197716.701.1581465146.240',\n",
       " '1.2.840.113619.2.340.3.2831197716.701.1581465146.240.3',\n",
       " '1.2.840.113619.2.340.3.2831197716.701.1581465146.240.4',\n",
       " '1.2.840.113619.2.340.3.2831197716.701.1581465146.240.5')"
      ]
     },
     "execution_count": 29,
     "metadata": {},
     "output_type": "execute_result"
    }
   ],
   "source": [
    "series_ID = sitk.ImageSeriesReader.GetGDCMSeriesIDs(\"dicom_origin\")\n",
    "print(\"数据类型: \", type(series_ID))\n",
    "print(\"序列数量: \", len(series_ID))\n",
    "series_ID"
   ]
  },
  {
   "cell_type": "markdown",
   "id": "6c509060",
   "metadata": {},
   "source": [
    "与手动删除了定位像的相比, 多了一个`SeriesID`"
   ]
  },
  {
   "cell_type": "code",
   "execution_count": 30,
   "id": "0a051952",
   "metadata": {},
   "outputs": [
    {
     "name": "stdout",
     "output_type": "stream",
     "text": [
      "序列数量:  5\n",
      "序列1中文件数:  0\n",
      "序列2中文件数:  65\n",
      "序列3中文件数:  65\n",
      "序列4中文件数:  257\n",
      "序列5中文件数:  257\n",
      "共有644个文件\n"
     ]
    }
   ],
   "source": [
    "series_names = []\n",
    "for serie_ID in series_ID:\n",
    "    series_names.append(sitk.ImageSeriesReader.GetGDCMSeriesFileNames(\"dicom\", serie_ID))\n",
    "\n",
    "print(\"序列数量: \", len(series_names))\n",
    "N = 0\n",
    "for i in range(5):\n",
    "    print(f\"序列{i+1}中文件数: \", len(series_names[i]))\n",
    "    N += len(series_names[i])\n",
    "print(f\"共有{N}个文件\")"
   ]
  },
  {
   "cell_type": "markdown",
   "id": "89e036a3",
   "metadata": {},
   "source": [
    "但是根据多出来的`SeriesID`找不到文件<br>\n",
    "下面手动读取定位像 和 一张普通图像进行比较"
   ]
  },
  {
   "cell_type": "code",
   "execution_count": 31,
   "id": "b061b802",
   "metadata": {},
   "outputs": [],
   "source": [
    "# 定位像\n",
    "img1 = sitk.ReadImage(\"dicom_origin/da13ac90-ecde-0a8e-82c7-5712308b3b34.dcm\")\n",
    "# 普通图\n",
    "img2 = sitk.ReadImage(\"dicom_origin/0b89378a-d7df-6b14-2e57-527352613968.dcm\")"
   ]
  },
  {
   "cell_type": "code",
   "execution_count": 32,
   "id": "c63d7457",
   "metadata": {},
   "outputs": [
    {
     "name": "stdout",
     "output_type": "stream",
     "text": [
      "基本信息比较:\n",
      "\t\timage1\t\t\t\timage2\n",
      "Size:\t\t(972, 944, 1)\t\t\t(512, 512, 1)\n",
      "Origin:\t\t(-265.0, 0.0, 0.0)\t\t(-194.2, -200.0, -249.75)\n",
      "Spacing:\t(0.545455, 0.545455, 1.0)\t(0.78125, 0.78125, 1.0)\n",
      "PixelID:\t4\t\t\t\t4\n"
     ]
    }
   ],
   "source": [
    "print(\"基本信息比较:\")\n",
    "print(\"\\t\\timage1\\t\\t\\t\\timage2\")\n",
    "print(f\"Size:\\t\\t{img1.GetSize()}\\t\\t\\t{img2.GetSize()}\")\n",
    "print(f\"Origin:\\t\\t{img1.GetOrigin()}\\t\\t{img2.GetOrigin()}\")\n",
    "print(f\"Spacing:\\t{img1.GetSpacing()}\\t{img2.GetSpacing()}\")\n",
    "print(f\"PixelID:\\t{img1.GetPixelIDValue()}\\t\\t\\t\\t{img2.GetPixelIDValue()}\")"
   ]
  },
  {
   "cell_type": "code",
   "execution_count": 33,
   "id": "08f0d8e7",
   "metadata": {
    "scrolled": false
   },
   "outputs": [
    {
     "name": "stdout",
     "output_type": "stream",
     "text": [
      "关键Meta Data:\n",
      " Series ID\n",
      "img1:  1.2.840.113619.2.340.3.2831197716.701.1581465146.235\n",
      "img2:  1.2.840.113619.2.340.3.2831197716.701.1581465146.240.4\n"
     ]
    }
   ],
   "source": [
    "print(\"关键Meta Data:\")\n",
    "print(\" Series ID\")\n",
    "print(\"img1: \", img1.GetMetaData(\"0020|000e\"))\n",
    "print(\"img2: \", img2.GetMetaData(\"0020|000e\"))"
   ]
  },
  {
   "cell_type": "markdown",
   "id": "4d24ee91",
   "metadata": {},
   "source": [
    "定位像的`SeriesID`与 `GetGDCMSeriesIDs()`读取出的相同, 说明`GetGDCMSeriesFileNames()`自动不读取定位像"
   ]
  },
  {
   "cell_type": "code",
   "execution_count": 34,
   "id": "09f87e3c",
   "metadata": {
    "scrolled": true
   },
   "outputs": [
    {
     "name": "stdout",
     "output_type": "stream",
     "text": [
      "False\n",
      "111\n",
      "115\n"
     ]
    }
   ],
   "source": [
    "MetaDataKeys1 = img1.GetMetaDataKeys()\n",
    "MetaDataKeys2 = img2.GetMetaDataKeys()\n",
    "print(MetaDataKeys1 == MetaDataKeys2)\n",
    "print(len(MetaDataKeys1))\n",
    "print(len(MetaDataKeys2))"
   ]
  },
  {
   "cell_type": "markdown",
   "id": "8dbf2b6f",
   "metadata": {},
   "source": [
    "定位像与普通图片的MetaData不一样, 猜测: `GetGDCMSeriesFileNames()`自动识别了定位像, 所以不读取"
   ]
  },
  {
   "cell_type": "markdown",
   "id": "294e7dd1",
   "metadata": {},
   "source": [
    "## 结论\n",
    "排除掉对应文件名为空的`SeriesID`即可排除定位像"
   ]
  },
  {
   "cell_type": "markdown",
   "id": "fcda5714",
   "metadata": {},
   "source": [
    "# 不同窗位"
   ]
  },
  {
   "cell_type": "code",
   "execution_count": 1,
   "id": "8adc199f",
   "metadata": {},
   "outputs": [],
   "source": [
    "import SimpleITK as sitk\n",
    "series_ID = sitk.ImageSeriesReader.GetGDCMSeriesIDs(\"dicom_origin\")"
   ]
  },
  {
   "cell_type": "markdown",
   "id": "fa0e9726",
   "metadata": {},
   "source": [
    "根据第三节的经验, IDs 中第2,3个,第4,5个为相同voxel size但窗位不同的图片"
   ]
  },
  {
   "cell_type": "code",
   "execution_count": 2,
   "id": "f21f20df",
   "metadata": {},
   "outputs": [
    {
     "name": "stdout",
     "output_type": "stream",
     "text": [
      "True\n",
      "文件数:  257\n"
     ]
    }
   ],
   "source": [
    "series1_names = sitk.ImageSeriesReader.GetGDCMSeriesFileNames(\"dicom_origin\", series_ID[3])\n",
    "series2_names = sitk.ImageSeriesReader.GetGDCMSeriesFileNames(\"dicom_origin\", series_ID[4])\n",
    "print(len(series1_names) == len(series2_names)) \n",
    "print(\"文件数: \", len(series1_names))"
   ]
  },
  {
   "cell_type": "code",
   "execution_count": 3,
   "id": "3ce26357",
   "metadata": {},
   "outputs": [],
   "source": [
    "# 读取\n",
    "reader1 = sitk.ImageSeriesReader()\n",
    "reader2 = sitk.ImageSeriesReader()\n",
    "\n",
    "reader1.MetaDataDictionaryArrayUpdateOn()\n",
    "reader1.LoadPrivateTagsOn()\n",
    "reader2.MetaDataDictionaryArrayUpdateOn()\n",
    "reader2.LoadPrivateTagsOn()\n",
    "\n",
    "reader1.SetFileNames(series1_names)\n",
    "reader2.SetFileNames(series2_names)\n",
    "\n",
    "img1 = reader1.Execute()\n",
    "img2 = reader2.Execute()"
   ]
  },
  {
   "cell_type": "markdown",
   "id": "cfdb844e",
   "metadata": {},
   "source": [
    "## 值"
   ]
  },
  {
   "cell_type": "code",
   "execution_count": 4,
   "id": "0b7635b2",
   "metadata": {
    "scrolled": true
   },
   "outputs": [
    {
     "data": {
      "text/plain": [
       "False"
      ]
     },
     "execution_count": 4,
     "metadata": {},
     "output_type": "execute_result"
    }
   ],
   "source": [
    "(sitk.GetArrayFromImage(img1) == sitk.GetArrayFromImage(img2)).all()"
   ]
  },
  {
   "cell_type": "markdown",
   "id": "7eb8bd82",
   "metadata": {},
   "source": [
    "相同分辨率, 不同窗位的图像强度***不同*** <br>\n",
    "差值："
   ]
  },
  {
   "cell_type": "code",
   "execution_count": 8,
   "id": "5b7e2136",
   "metadata": {},
   "outputs": [],
   "source": [
    "img_diff = img1 - img2\n",
    "sitk.Show(img_diff)"
   ]
  },
  {
   "cell_type": "code",
   "execution_count": 21,
   "id": "9c6d6149",
   "metadata": {},
   "outputs": [
    {
     "name": "stdout",
     "output_type": "stream",
     "text": [
      "最大差值:  4095\n",
      "不相同的点:  52071653 占了 0.7729089195162405\n"
     ]
    }
   ],
   "source": [
    "import numpy as np\n",
    "diff = sitk.GetArrayViewFromImage(img_diff)\n",
    "print(\"最大差值: \", diff.max())\n",
    "print(\"不相同的点: \", np.sum(diff != 0), \"占了\", np.sum(diff != 0)/np.size(diff) )"
   ]
  },
  {
   "cell_type": "code",
   "execution_count": 23,
   "id": "63e96cca",
   "metadata": {},
   "outputs": [
    {
     "name": "stdout",
     "output_type": "stream",
     "text": [
      "0.2272932848859467\n",
      "0.12821821170306955\n",
      "0.2272932848859467\n",
      "2.0992853983476126e-05\n"
     ]
    }
   ],
   "source": [
    "dicecomputer=sitk.LabelOverlapMeasuresImageFilter()\n",
    "dicecomputer.Execute(img1,img2)\n",
    "print(dicecomputer.GetDiceCoefficient())\n",
    "print(dicecomputer.GetJaccardCoefficient())\n",
    "print(dicecomputer.GetMeanOverlap())\n",
    "print(dicecomputer.GetVolumeSimilarity())"
   ]
  },
  {
   "cell_type": "code",
   "execution_count": 28,
   "id": "dc773e01",
   "metadata": {},
   "outputs": [
    {
     "data": {
      "text/plain": [
       "12.494806475212602"
      ]
     },
     "execution_count": 28,
     "metadata": {},
     "output_type": "execute_result"
    }
   ],
   "source": [
    "# 均方误差\n",
    "np.sum(diff*diff)/np.size(diff)"
   ]
  },
  {
   "cell_type": "code",
   "execution_count": 26,
   "id": "76b47ea9",
   "metadata": {},
   "outputs": [
    {
     "data": {
      "text/plain": [
       "-22.07551549473625"
      ]
     },
     "execution_count": 26,
     "metadata": {},
     "output_type": "execute_result"
    }
   ],
   "source": [
    "np.sum(np.abs(diff))/np.size(diff)"
   ]
  },
  {
   "cell_type": "markdown",
   "id": "344332ae",
   "metadata": {},
   "source": [
    "## Meta Data"
   ]
  },
  {
   "cell_type": "markdown",
   "id": "5d57e03b",
   "metadata": {},
   "source": [
    "将系列读取为一个Image后, silce自动按照顺序排列好了"
   ]
  },
  {
   "cell_type": "code",
   "execution_count": 39,
   "id": "f5b69d11",
   "metadata": {},
   "outputs": [
    {
     "name": "stdout",
     "output_type": "stream",
     "text": [
      "位置1:  -441.000\n",
      "位置2:  -441.000\n"
     ]
    }
   ],
   "source": [
    "print(\"位置1: \", reader1.GetMetaData(0, \"0020|1041\"))\n",
    "print(\"位置2: \", reader2.GetMetaData(0, \"0020|1041\"))"
   ]
  },
  {
   "cell_type": "markdown",
   "id": "809ac611",
   "metadata": {},
   "source": [
    "MetaData 的标签是相同的"
   ]
  },
  {
   "cell_type": "code",
   "execution_count": 40,
   "id": "442bb777",
   "metadata": {},
   "outputs": [
    {
     "name": "stdout",
     "output_type": "stream",
     "text": [
      "True\n"
     ]
    }
   ],
   "source": [
    "print(reader1.GetMetaDataKeys(0)==reader2.GetMetaDataKeys(0))"
   ]
  },
  {
   "cell_type": "markdown",
   "id": "c90e8cd1",
   "metadata": {},
   "source": [
    "输出全部信息比较"
   ]
  },
  {
   "cell_type": "code",
   "execution_count": 41,
   "id": "732216c9",
   "metadata": {},
   "outputs": [
    {
     "name": "stdout",
     "output_type": "stream",
     "text": [
      "0008|0005\t相等,  ISO_IR 100\n",
      "0008|0008\t相等,  ORIGINAL\\PRIMARY\\AXIAL\n",
      "0008|0012\t相等,  20200212\n",
      "0008|0013\t********** 162606 \t 162628\n",
      "0008|0016\t相等,  1.2.840.10008.5.1.4.1.1.2\n",
      "0008|0018\t********** 1.2.840.113619.2.340.3.2831197716.701.1581465146.310.257 \t 1.2.840.113619.2.340.3.2831197716.701.1581465146.311.257\n",
      "0008|0020\t相等,  20200212\n",
      "0008|0021\t相等,  20200212\n",
      "0008|0022\t相等,  20200212\n",
      "0008|0023\t相等,  20200212\n",
      "0008|0030\t相等,  162349\n",
      "0008|0031\t相等,  162444\n",
      "0008|0032\t相等,  162503.959012 \n",
      "0008|0033\t********** 162606 \t 162628\n",
      "0008|0050\t相等,  CT202002120113\n",
      "0008|0060\t相等,  CT\n",
      "0008|0061\t相等,  CT\n",
      "0008|0070\t相等,  GE MEDICAL SYSTEMS\n",
      "0008|0080\t相等,  \n",
      "0008|0081\t相等,  \n",
      "0008|0090\t相等,  \n",
      "0008|0092\t相等,  \n",
      "0008|0094\t相等,  \n",
      "0008|1010\t相等,  ct99\n",
      "0008|1030\t相等,  a \n",
      "0008|103e\t********** 1.25mm stnd  \t 1.25mm lung \n",
      "0008|1040\t相等,  \n",
      "0008|1048\t相等,  \n",
      "0008|1050\t相等,  \n",
      "0008|1060\t相等,  \n",
      "0008|1070\t相等,  Anonymized\n",
      "0008|1090\t相等,  Discovery CT\n",
      "0008|3010\t相等,  1.2.840.113619.2.340.3.2831197716.701.1581465146.241\n",
      "0009|0010\t相等,  GEMS_IDEN_01\n",
      "0010|0010\t相等,  Anonymized\n",
      "0010|0020\t相等,  P0566783\n",
      "0010|0021\t相等,  \n",
      "0010|0030\t相等,  \n",
      "0010|0032\t相等,  \n",
      "0010|0040\t相等,  F \n",
      "0010|1000\t相等,  \n",
      "0010|1001\t相等,  Anonymized\n",
      "0010|1005\t相等,  Anonymized\n",
      "0010|1010\t相等,  040Y\n",
      "0010|1040\t相等,  \n",
      "0010|1060\t相等,  Anonymized\n",
      "0010|2154\t相等,  \n",
      "0010|21b0\t相等,  \n",
      "0012|0010\t相等,  \n",
      "0012|0020\t相等,  \n",
      "0012|0021\t相等,  \n",
      "0012|0030\t相等,  \n",
      "0012|0031\t相等,  \n",
      "0012|0040\t相等,  S0006 \n",
      "0018|0022\t相等,  HELICAL MODE\n",
      "0018|0050\t相等,  1.250000\n",
      "0018|0060\t相等,  120 \n",
      "0018|0088\t相等,  5.000000\n",
      "0018|0090\t相等,  500.000000\n",
      "0018|1000\t相等,  * \n",
      "0018|1020\t相等,  sles_hde.132\n",
      "0018|1030\t相等,  5.1 Chest \n",
      "0018|1100\t相等,  400.000000\n",
      "0018|1110\t相等,  946.746000\n",
      "0018|1111\t相等,  538.520000\n",
      "0018|1120\t相等,  0.000000\n",
      "0018|1130\t相等,  116.000000\n",
      "0018|1140\t相等,  CW\n",
      "0018|1150\t相等,  600 \n",
      "0018|1151\t相等,  322 \n",
      "0018|1152\t相等,  6 \n",
      "0018|1160\t相等,  BODY FILTER \n",
      "0018|1170\t相等,  42000 \n",
      "0018|1190\t相等,  0.700000\n",
      "0018|1210\t********** STANDARD \t LUNG\n",
      "0018|5100\t相等,  HFS \n",
      "0018|9305\t相等,  0.6\n",
      "0018|9306\t相等,  0.625\n",
      "0018|9307\t相等,  40\n",
      "0018|9309\t相等,  65.625\n",
      "0018|9310\t相等,  39.375\n",
      "0018|9311\t相等,  0.984375\n",
      "0019|0010\t相等,  GEMS_ACQU_01\n",
      "0020|000d\t相等,  1.2.840.113619.2.340.3.2831197716.701.1581465146.233\n",
      "0020|000e\t********** 1.2.840.113619.2.340.3.2831197716.701.1581465146.240.4 \t 1.2.840.113619.2.340.3.2831197716.701.1581465146.240.5\n",
      "0020|0010\t相等,  7185\n",
      "0020|0011\t********** 4  \t 5 \n",
      "0020|0012\t相等,  1 \n",
      "0020|0013\t相等,  257 \n",
      "0020|0032\t相等,  -194.200\\-200.000\\-441.000\n",
      "0020|0037\t相等,  1.000000\\0.000000\\0.000000\\0.000000\\1.000000\\0.000000 \n",
      "0020|0052\t相等,  1.2.840.113619.2.340.3.2831197716.701.1581465146.234.10595.1\n",
      "0020|1040\t相等,  SN\n",
      "0020|1041\t相等,  -441.000\n",
      "0020|1208\t相等,  645 \n",
      "0021|0010\t相等,  GEMS_RELA_01\n",
      "0023|0010\t相等,  GEMS_STDY_01\n",
      "0027|0010\t相等,  GEMS_IMAG_01\n",
      "0028|0002\t相等,  1\n",
      "0028|0004\t相等,  MONOCHROME2 \n",
      "0028|0010\t相等,  512\n",
      "0028|0011\t相等,  512\n",
      "0028|0030\t相等,  0.781250\\0.781250 \n",
      "0028|0100\t相等,  16\n",
      "0028|0101\t相等,  16\n",
      "0028|0102\t相等,  15\n",
      "0028|0103\t相等,  1\n",
      "0028|0120\t相等,  -2000\n",
      "0028|1050\t********** 40 \t -700\n",
      "0028|1051\t********** 200  \t 1500\n",
      "0028|1052\t相等,  -1024 \n",
      "0028|1053\t相等,  1 \n",
      "0028|1054\t相等,  HU\n",
      "0040|0244\t相等,  20200212\n",
      "0040|0245\t相等,  162349\n",
      "0040|0253\t相等,  PPS ID   7185 \n",
      "0040|0254\t相等,  a \n",
      "0040|1008\t相等,  N \n",
      "0043|0010\t相等,  GEMS_PARM_01\n",
      "0045|0010\t相等,  GEMS_HELIOS_01\n",
      "0053|0010\t相等,  GEHC_CT_ADVAPP_001\n",
      "07a1|0010\t相等,  ELSCINT1\n",
      "07a1|1002\t相等,  257\n",
      "07a1|102a\t相等,  UNREAD\n",
      "07a1|1042\t相等,  NOT ASSIGNED\n",
      "07a1|1043\t相等,  1 \n",
      "07a1|1050\t相等,  0\n",
      "07a1|1058\t相等,  A \n",
      "07a1|105f\t相等,  N \n",
      "07a1|1085\t相等,  3\n",
      "07a1|1088\t相等,  N \n",
      "07a1|1098\t相等,  N \n",
      "07a1|10d0\t********** 25044032290817 \t 25044047822852\n",
      "07a3|0010\t相等,  ELSCINT1\n",
      "07a3|1001\t相等,  12.1.5.0\n",
      "07a3|1003\t相等,  N \n",
      "07a3|1034\t相等,  14893 \n",
      "07a3|1055\t相等,  N \n",
      "07a3|105c\t相等,  0 \n",
      "07a3|108f\t相等,  N \n",
      "07a3|109c\t相等,  N \n",
      "07a3|10b9\t相等,  N \n",
      "07a3|10bb\t相等,  N \n",
      "07a5|0010\t相等,  ELSCINT1\n",
      "07a5|1056\t相等,  N \n",
      "07a5|1059\t********** 3  \t 4 \n",
      "07a5|10ae\t相等,  0 \n",
      "07a5|10c8\t相等,  Y \n",
      "ITK_original_direction\t相等,  [UNKNOWN_PRINT_CHARACTERISTICS]\n",
      "\n",
      "ITK_original_spacing\t相等,  [UNKNOWN_PRINT_CHARACTERISTICS]\n",
      "\n"
     ]
    }
   ],
   "source": [
    "for key in reader1.GetMetaDataKeys(0):\n",
    "    value1 = reader1.GetMetaData(0, key)\n",
    "    value2 = reader2.GetMetaData(0, key)\n",
    "    print(key, end=\"\\t\")\n",
    "    if value1 == value2:\n",
    "        print(\"相等, \", value1)\n",
    "    else:\n",
    "        print(\"**********\", value1, \"\\t\", value2)"
   ]
  },
  {
   "cell_type": "markdown",
   "id": "8de474ea",
   "metadata": {},
   "source": [
    "输出不同的信息"
   ]
  },
  {
   "cell_type": "code",
   "execution_count": 42,
   "id": "c4b31d2c",
   "metadata": {
    "scrolled": true
   },
   "outputs": [
    {
     "name": "stdout",
     "output_type": "stream",
     "text": [
      "0008|0013: InstanceCreationTime\n",
      "\t\t 162606\n",
      "\t\t 162628\n",
      "0008|0018: SOPInstanceUID\n",
      "\t\t 1.2.840.113619.2.340.3.2831197716.701.1581465146.310.257\n",
      "\t\t 1.2.840.113619.2.340.3.2831197716.701.1581465146.311.257\n",
      "0008|0033: ContentTime\n",
      "\t\t 162606\n",
      "\t\t 162628\n",
      "0008|103e: **SeriesDescription**\n",
      "\t\t 1.25mm stnd \n",
      "\t\t 1.25mm lung \n",
      "0018|1210: **ConvolutionKernel**\n",
      "\t\t STANDARD\n",
      "\t\t LUNG\n",
      "0020|000e: **SeriesInstanceUID**\n",
      "\t\t 1.2.840.113619.2.340.3.2831197716.701.1581465146.240.4\n",
      "\t\t 1.2.840.113619.2.340.3.2831197716.701.1581465146.240.5\n",
      "0020|0011: SeriesNumber\n",
      "\t\t 4 \n",
      "\t\t 5 \n",
      "0028|1050: WindowCenter\n",
      "\t\t 40\n",
      "\t\t -700\n",
      "0028|1051: WindowWidth\n",
      "\t\t 200 \n",
      "\t\t 1500\n",
      "07a1|10d0: \n",
      "\t\t 25044032290817\n",
      "\t\t 25044047822852\n",
      "07a5|1059: \n",
      "\t\t 3 \n",
      "\t\t 4 \n"
     ]
    }
   ],
   "source": [
    "names = [\"InstanceCreationTime\", \"SOPInstanceUID\", \"ContentTime\", \"**SeriesDescription**\", \"**ConvolutionKernel**\",\n",
    "         \"**SeriesInstanceUID**\", \"SeriesNumber\", \"WindowCenter\", \"WindowWidth\", \"\", \"\"]\n",
    "i = 0\n",
    "for key in reader1.GetMetaDataKeys(0):\n",
    "    value1 = reader1.GetMetaData(0, key)\n",
    "    value2 = reader2.GetMetaData(0, key)\n",
    "    if value1 != value2:\n",
    "        print(f\"{key}: {names[i]}\")\n",
    "        print(\"\\t\\t\", value1)\n",
    "        print(\"\\t\\t\", value2)\n",
    "        i += 1"
   ]
  },
  {
   "cell_type": "markdown",
   "id": "effec5e0",
   "metadata": {},
   "source": [
    "## 结论\n",
    " \n",
    "1. 猜测:可根据 `\"0018|1210\"`: ConvolutionKernel 进行区分 STANDARD / LUNG\n",
    "2. 名称区别: `\"0008|103e\"`: SeriesDescription \"1.25mm stnd\" / \"1.25mm lung\""
   ]
  },
  {
   "cell_type": "markdown",
   "id": "2d3ab91c",
   "metadata": {},
   "source": [
    "# 不同分辨率"
   ]
  },
  {
   "cell_type": "code",
   "execution_count": 43,
   "id": "6c9bef66",
   "metadata": {},
   "outputs": [],
   "source": [
    "series_ID = sitk.ImageSeriesReader.GetGDCMSeriesIDs(\"dicom_origin\")"
   ]
  },
  {
   "cell_type": "code",
   "execution_count": 44,
   "id": "eb8fe8a6",
   "metadata": {},
   "outputs": [],
   "source": [
    "series1_names = sitk.ImageSeriesReader.GetGDCMSeriesFileNames(\"dicom_origin\", series_ID[1])\n",
    "series2_names = sitk.ImageSeriesReader.GetGDCMSeriesFileNames(\"dicom_origin\", series_ID[3])"
   ]
  },
  {
   "cell_type": "markdown",
   "id": "4ed1b1e6",
   "metadata": {},
   "source": [
    "## 层数不同\n",
    "分辨率越高,层数越多"
   ]
  },
  {
   "cell_type": "markdown",
   "id": "e2dc51e4",
   "metadata": {},
   "source": [
    "### 文件数"
   ]
  },
  {
   "cell_type": "code",
   "execution_count": 45,
   "id": "6d71c15e",
   "metadata": {},
   "outputs": [
    {
     "name": "stdout",
     "output_type": "stream",
     "text": [
      "dcm文件个数1: 65\n",
      "dcm文件个数2: 257\n"
     ]
    }
   ],
   "source": [
    "print(\"dcm文件个数1:\", len(series1_names))\n",
    "print(\"dcm文件个数2:\", len(series2_names))"
   ]
  },
  {
   "cell_type": "code",
   "execution_count": 46,
   "id": "5c6758f3",
   "metadata": {},
   "outputs": [],
   "source": [
    "# 读取\n",
    "reader1 = sitk.ImageSeriesReader()\n",
    "reader2 = sitk.ImageSeriesReader()\n",
    "\n",
    "reader1.MetaDataDictionaryArrayUpdateOn()\n",
    "reader1.LoadPrivateTagsOn()\n",
    "reader2.MetaDataDictionaryArrayUpdateOn()\n",
    "reader2.LoadPrivateTagsOn()\n",
    "\n",
    "reader1.SetFileNames(series1_names)\n",
    "reader2.SetFileNames(series2_names)\n",
    "\n",
    "img1 = reader1.Execute()\n",
    "img2 = reader2.Execute()"
   ]
  },
  {
   "cell_type": "markdown",
   "id": "28ebc8b7",
   "metadata": {},
   "source": [
    "### 图片的depth"
   ]
  },
  {
   "cell_type": "code",
   "execution_count": 47,
   "id": "3cb93ed5",
   "metadata": {},
   "outputs": [
    {
     "name": "stdout",
     "output_type": "stream",
     "text": [
      "img深度1: 65\n",
      "img深度2: 257\n"
     ]
    }
   ],
   "source": [
    "print(\"img深度1:\", img1.GetDepth())\n",
    "print(\"img深度2:\", img2.GetDepth())"
   ]
  },
  {
   "cell_type": "markdown",
   "id": "3c7749b5",
   "metadata": {},
   "source": [
    "## Meta Data"
   ]
  },
  {
   "cell_type": "code",
   "execution_count": 48,
   "id": "9788ed6c",
   "metadata": {},
   "outputs": [
    {
     "name": "stdout",
     "output_type": "stream",
     "text": [
      "0008|0013: InstanceCreationTime \n",
      "\t\t 162528\n",
      "\t\t 162606\n",
      "0008|0018: SOPInstanceUID \n",
      "\t\t 1.2.840.113619.2.340.3.2831197716.701.1581465146.242.65\n",
      "\t\t 1.2.840.113619.2.340.3.2831197716.701.1581465146.310.257\n",
      "0008|0033: ContentTime \n",
      "\t\t 162528\n",
      "\t\t 162606\n",
      "0008|103e: **SeriesDescription** \n",
      "\t\t 5mm Stnd\n",
      "\t\t 1.25mm stnd \n",
      "0018|0050: **AccessionNumber** \n",
      "\t\t 5.000000\n",
      "\t\t 1.250000\n",
      "0018|1151: XRayTubeCurrent \n",
      "\t\t 321 \n",
      "\t\t 322 \n",
      "0018|1152: Exposure \n",
      "\t\t 24\n",
      "\t\t 6 \n",
      "0020|000e: SeriesInstanceUID \n",
      "\t\t 1.2.840.113619.2.340.3.2831197716.701.1581465146.240\n",
      "\t\t 1.2.840.113619.2.340.3.2831197716.701.1581465146.240.4\n",
      "0020|0011: SeriesNumber \n",
      "\t\t 2 \n",
      "\t\t 4 \n",
      "0020|0013: **InstanceNumber** \n",
      "\t\t 65\n",
      "\t\t 257 \n",
      "07a1|1002:  \n",
      "\t\t 65\n",
      "\t\t 257\n",
      "07a1|10d0:  \n",
      "\t\t 25044011974660\n",
      "\t\t 25044032290817\n",
      "07a5|1059:  \n",
      "\t\t 1 \n",
      "\t\t 3 \n"
     ]
    }
   ],
   "source": [
    "names = [\"InstanceCreationTime\", \"SOPInstanceUID\", \"ContentTime\", \"**SeriesDescription**\", \"**AccessionNumber**\",\n",
    "         \"XRayTubeCurrent\", \"Exposure\", \"SeriesInstanceUID\", \"SeriesNumber\", \"**InstanceNumber**\", \"\", \"\", \"\"]\n",
    "i = 0\n",
    "for key in reader1.GetMetaDataKeys(0):\n",
    "    value1 = reader1.GetMetaData(0, key)\n",
    "    value2 = reader2.GetMetaData(0, key)\n",
    "    if value1 != value2:\n",
    "        print(f\"{key}: {names[i]} \")\n",
    "        print(\"\\t\\t\", value1)\n",
    "        print(\"\\t\\t\", value2)\n",
    "        i += 1"
   ]
  },
  {
   "cell_type": "markdown",
   "id": "c8320372",
   "metadata": {},
   "source": [
    "潜在tag:\n",
    "* 0018|0050: AccessionNumber \n",
    "* 0020|0013: InstanceNumber "
   ]
  },
  {
   "cell_type": "markdown",
   "id": "2bb06975",
   "metadata": {},
   "source": [
    "## 分辨率不同"
   ]
  },
  {
   "cell_type": "code",
   "execution_count": 49,
   "id": "c29bd040",
   "metadata": {},
   "outputs": [
    {
     "name": "stdout",
     "output_type": "stream",
     "text": [
      "img1 Spacing: (0.78125, 0.78125, 5.0)\n",
      "img2 Spacing: (0.78125, 0.78125, 1.25)\n"
     ]
    }
   ],
   "source": [
    "print(\"img1 Spacing:\", img1.GetSpacing())\n",
    "print(\"img2 Spacing:\", img2.GetSpacing())"
   ]
  },
  {
   "cell_type": "code",
   "execution_count": 50,
   "id": "23506a49",
   "metadata": {},
   "outputs": [
    {
     "name": "stdout",
     "output_type": "stream",
     "text": [
      "img1 间距: 5.0\n",
      "img2 间距: 1.25\n"
     ]
    }
   ],
   "source": [
    "print(\"img1 间距:\", img1.GetSpacing()[2])\n",
    "print(\"img2 间距:\", img2.GetSpacing()[2])"
   ]
  },
  {
   "cell_type": "markdown",
   "id": "fea878d4",
   "metadata": {},
   "source": [
    "## 结论\n",
    "总之, 读dcm序列文件无法只读取信息, 不读取图像内容, 所以最简单的方式就是利用 `Image.GatSpacing()[3]`来区别分辨率"
   ]
  },
  {
   "cell_type": "markdown",
   "id": "f8243b9f",
   "metadata": {},
   "source": [
    "# 创建时间"
   ]
  },
  {
   "cell_type": "code",
   "execution_count": 37,
   "id": "d03f4b0b",
   "metadata": {},
   "outputs": [],
   "source": [
    "series_ID = sitk.ImageSeriesReader.GetGDCMSeriesIDs(\"dicom\")\n",
    "\n",
    "# 创建4个reader\n",
    "readers = []\n",
    "imgs = []\n",
    "for serie_ID in series_ID:\n",
    "    serie_names = sitk.ImageSeriesReader.GetGDCMSeriesFileNames(\"dicom\", serie_ID)\n",
    "    reader = sitk.ImageSeriesReader()\n",
    "    reader.SetFileNames(serie_names)\n",
    "    reader.MetaDataDictionaryArrayUpdateOn()\n",
    "    reader.LoadPrivateTagsOn()\n",
    "    img = reader.Execute()\n",
    "    \n",
    "    readers.append(reader)\n",
    "    imgs.append(img)"
   ]
  },
  {
   "cell_type": "code",
   "execution_count": 46,
   "id": "99c599fa",
   "metadata": {},
   "outputs": [
    {
     "name": "stdout",
     "output_type": "stream",
     "text": [
      "Spacing[2] \t ConvolutionKernel \t InstanceCreationTime \t ContentTime\n",
      "5.0\t\tSTANDARD\t\t162528\t\t162528\n",
      "5.0\t\tLUNG\t\t162543\t\t162543\n",
      "1.25\t\tSTANDARD\t\t162606\t\t162606\n",
      "1.25\t\tLUNG\t\t162628\t\t162628\n"
     ]
    }
   ],
   "source": [
    "print(\"Spacing[2] \\t ConvolutionKernel \\t InstanceCreationTime \\t ContentTime\")\n",
    "for img, reader in zip(imgs, readers):\n",
    "    print(img.GetSpacing()[2], end=\"\\t\\t\")\n",
    "    print(reader.GetMetaData(0, \"0018|1210\"), end=\"\\t\\t\")\n",
    "    print(reader.GetMetaData(0, \"0008|0013\"), end=\"\\t\\t\")\n",
    "    print(reader.GetMetaData(0, \"0008|0033\"))"
   ]
  },
  {
   "cell_type": "code",
   "execution_count": null,
   "id": "e2bb5722",
   "metadata": {},
   "outputs": [],
   "source": []
  }
 ],
 "metadata": {
  "kernelspec": {
   "display_name": "Python 3 (ipykernel)",
   "language": "python",
   "name": "python3"
  },
  "language_info": {
   "codemirror_mode": {
    "name": "ipython",
    "version": 3
   },
   "file_extension": ".py",
   "mimetype": "text/x-python",
   "name": "python",
   "nbconvert_exporter": "python",
   "pygments_lexer": "ipython3",
   "version": "3.8.5"
  },
  "toc": {
   "base_numbering": 1,
   "nav_menu": {},
   "number_sections": true,
   "sideBar": true,
   "skip_h1_title": false,
   "title_cell": "Table of Contents",
   "title_sidebar": "Contents",
   "toc_cell": false,
   "toc_position": {
    "height": "calc(100% - 180px)",
    "left": "10px",
    "top": "150px",
    "width": "165px"
   },
   "toc_section_display": true,
   "toc_window_display": true
  },
  "varInspector": {
   "cols": {
    "lenName": 16,
    "lenType": 16,
    "lenVar": 40
   },
   "kernels_config": {
    "python": {
     "delete_cmd_postfix": "",
     "delete_cmd_prefix": "del ",
     "library": "var_list.py",
     "varRefreshCmd": "print(var_dic_list())"
    },
    "r": {
     "delete_cmd_postfix": ") ",
     "delete_cmd_prefix": "rm(",
     "library": "var_list.r",
     "varRefreshCmd": "cat(var_dic_list()) "
    }
   },
   "position": {
    "height": "263.183px",
    "left": "907px",
    "right": "20px",
    "top": "85px",
    "width": "350px"
   },
   "types_to_exclude": [
    "module",
    "function",
    "builtin_function_or_method",
    "instance",
    "_Feature"
   ],
   "window_display": false
  }
 },
 "nbformat": 4,
 "nbformat_minor": 5
}
