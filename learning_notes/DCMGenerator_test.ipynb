{
 "cells": [
  {
   "cell_type": "markdown",
   "metadata": {
    "collapsed": true,
    "pycharm": {
     "name": "#%% md\n"
    }
   },
   "source": [
    "# 从nii文件生成DCM序列\n"
   ]
  },
  {
   "cell_type": "code",
   "source": [
    "import SimpleITK as sitk\n",
    "import numpy as np\n",
    "import os"
   ],
   "metadata": {
    "collapsed": false,
    "pycharm": {
     "name": "#%%\n"
    }
   },
   "execution_count": 1,
   "outputs": []
  },
  {
   "cell_type": "markdown",
   "source": [
    "## 1. nii文件基本信息"
   ],
   "metadata": {
    "collapsed": false,
    "pycharm": {
     "name": "#%% md\n"
    }
   }
  },
  {
   "cell_type": "code",
   "execution_count": 2,
   "outputs": [
    {
     "name": "stdout",
     "output_type": "stream",
     "text": [
      "MetaData:\n",
      "ITK_FileNotes\t\t:\n",
      "aux_file\t\t:\n",
      "bitpix\t\t:16\n",
      "cal_max\t\t:0\n",
      "cal_min\t\t:0\n",
      "datatype\t\t:4\n",
      "descrip\t\t:\n",
      "dim[0]\t\t:3\n",
      "dim[1]\t\t:512\n",
      "dim[2]\t\t:512\n",
      "dim[3]\t\t:851\n",
      "dim[4]\t\t:1\n",
      "dim[5]\t\t:1\n",
      "dim[6]\t\t:1\n",
      "dim[7]\t\t:1\n",
      "dim_info\t\t:0\n",
      "intent_code\t\t:0\n",
      "intent_name\t\t:\n",
      "intent_p1\t\t:0\n",
      "intent_p2\t\t:0\n",
      "intent_p3\t\t:0\n",
      "nifti_type\t\t:1\n",
      "pixdim[0]\t\t:0\n",
      "pixdim[1]\t\t:0.683\n",
      "pixdim[2]\t\t:0.683\n",
      "pixdim[3]\t\t:0.8\n",
      "pixdim[4]\t\t:0\n",
      "pixdim[5]\t\t:0\n",
      "pixdim[6]\t\t:0\n",
      "pixdim[7]\t\t:0\n",
      "qform_code\t\t:1\n",
      "qform_code_name\t\t:NIFTI_XFORM_SCANNER_ANAT\n",
      "qoffset_x\t\t:190.283\n",
      "qoffset_y\t\t:174.658\n",
      "qoffset_z\t\t:1274.5\n",
      "quatern_b\t\t:0\n",
      "quatern_c\t\t:0\n",
      "quatern_d\t\t:1\n",
      "scl_inter\t\t:0\n",
      "scl_slope\t\t:1\n",
      "sform_code\t\t:1\n",
      "sform_code_name\t\t:NIFTI_XFORM_SCANNER_ANAT\n",
      "slice_code\t\t:0\n",
      "slice_duration\t\t:0\n",
      "slice_end\t\t:0\n",
      "slice_start\t\t:0\n",
      "srow_x\t\t:-0.683 0 0 190.283\n",
      "srow_y\t\t:0 -0.683 0 174.658\n",
      "srow_z\t\t:0 0 0.8 1274.5\n",
      "toffset\t\t:0\n",
      "vox_offset\t\t:352\n",
      "xyzt_units\t\t:2\n"
     ]
    }
   ],
   "source": [
    "reader = sitk.ImageFileReader()\n",
    "reader.SetFileName(\"E:\\other program\\DCMProcessor\\dataset\\ct.nii\")\n",
    "reader.ReadImageInformation()\n",
    "\n",
    "# 获取nii文件MetaData\n",
    "MetaData_keys = reader.GetMetaDataKeys()\n",
    "print(\"MetaData:\")\n",
    "for key in MetaData_keys:\n",
    "    print(f\"{key}\\t\\t:{reader.GetMetaData(key)}\")"
   ],
   "metadata": {
    "collapsed": false,
    "pycharm": {
     "name": "#%%\n"
    }
   }
  },
  {
   "cell_type": "code",
   "execution_count": 3,
   "outputs": [
    {
     "name": "stdout",
     "output_type": "stream",
     "text": [
      "基本信息：\n",
      "size\t\t:(512, 512, 851)\n",
      "dimension\t:3\n",
      "origin\t\t:(-190.283203125, -174.658203125, 1274.5)\n",
      "spacing\t\t:(0.6830000281333923, 0.6830000281333923, 0.800000011920929)\n",
      "direction\t:(1.0, -0.0, -0.0, -0.0, 1.0, -0.0, 0.0, 0.0, 1.0)\n",
      "dtype\t\t:16-bit signed integer\n"
     ]
    }
   ],
   "source": [
    "basic_info = (\n",
    "    (\"size\\t\", reader.GetSize()),\n",
    "    (\"dimension\", reader.GetDimension()),\n",
    "    (\"origin\\t\", reader.GetOrigin()),\n",
    "    (\"spacing\\t\", reader.GetSpacing()),\n",
    "    (\"direction\", reader.GetDirection()),\n",
    "    (\"dtype\\t\", sitk.GetPixelIDValueAsString(reader.GetPixelID())),\n",
    ")\n",
    "print(\"基本信息：\")\n",
    "for info in basic_info:\n",
    "    print(f\"{info[0]}\\t:{info[1]}\")"
   ],
   "metadata": {
    "collapsed": false,
    "pycharm": {
     "name": "#%%\n"
    }
   }
  },
  {
   "cell_type": "markdown",
   "source": [
    "nii文件读取数据后得到的Image保有了nii的MetaData。"
   ],
   "metadata": {
    "collapsed": false,
    "pycharm": {
     "name": "#%% md\n"
    }
   }
  },
  {
   "cell_type": "code",
   "source": [
    "img = reader.Execute()\n",
    "img.GetMetaDataKeys()"
   ],
   "metadata": {
    "collapsed": false,
    "pycharm": {
     "name": "#%%\n"
    }
   },
   "execution_count": 4,
   "outputs": [
    {
     "data": {
      "text/plain": "('ITK_FileNotes',\n 'ITK_original_direction',\n 'ITK_original_spacing',\n 'aux_file',\n 'bitpix',\n 'cal_max',\n 'cal_min',\n 'datatype',\n 'descrip',\n 'dim[0]',\n 'dim[1]',\n 'dim[2]',\n 'dim[3]',\n 'dim[4]',\n 'dim[5]',\n 'dim[6]',\n 'dim[7]',\n 'dim_info',\n 'intent_code',\n 'intent_name',\n 'intent_p1',\n 'intent_p2',\n 'intent_p3',\n 'nifti_type',\n 'pixdim[0]',\n 'pixdim[1]',\n 'pixdim[2]',\n 'pixdim[3]',\n 'pixdim[4]',\n 'pixdim[5]',\n 'pixdim[6]',\n 'pixdim[7]',\n 'qform_code',\n 'qform_code_name',\n 'qoffset_x',\n 'qoffset_y',\n 'qoffset_z',\n 'quatern_b',\n 'quatern_c',\n 'quatern_d',\n 'scl_inter',\n 'scl_slope',\n 'sform_code',\n 'sform_code_name',\n 'slice_code',\n 'slice_duration',\n 'slice_end',\n 'slice_start',\n 'srow_x',\n 'srow_y',\n 'srow_z',\n 'toffset',\n 'vox_offset',\n 'xyzt_units')"
     },
     "execution_count": 4,
     "metadata": {},
     "output_type": "execute_result"
    }
   ]
  },
  {
   "cell_type": "code",
   "source": [
    "print('\\\\'.join(map(str, img.TransformIndexToPhysicalPoint((0, 0, 0)))))\n",
    "print('\\\\'.join(map(str, img.TransformIndexToPhysicalPoint((0, 0, 1)))))\n",
    "print('\\\\'.join(map(str, img.TransformIndexToPhysicalPoint((0, 0, 2)))))\n",
    "print('\\\\'.join(map(str, img.TransformIndexToPhysicalPoint((0, 0, 3)))))"
   ],
   "metadata": {
    "collapsed": false,
    "pycharm": {
     "name": "#%%\n"
    }
   },
   "execution_count": 5,
   "outputs": [
    {
     "name": "stdout",
     "output_type": "stream",
     "text": [
      "-190.283203125\\-174.658203125\\1274.5\n",
      "-190.283203125\\-174.658203125\\1275.300000011921\n",
      "-190.283203125\\-174.658203125\\1276.1000000238419\n",
      "-190.283203125\\-174.658203125\\1276.9000000357628\n"
     ]
    }
   ]
  },
  {
   "cell_type": "markdown",
   "source": [
    "## DCM序列文件基本信息\n",
    "以分割软件导出的序列为例"
   ],
   "metadata": {
    "collapsed": false,
    "pycharm": {
     "name": "#%% md\n"
    }
   }
  },
  {
   "cell_type": "code",
   "execution_count": 6,
   "outputs": [],
   "source": [
    "# 序列中所有文件名\n",
    "fnames = sitk.ImageSeriesReader.GetGDCMSeriesFileNames(r\"E:\\other program\\DCMProcessor\\dataset\\DCMExample\")\n",
    "\n",
    "# 声明，设置文件名\n",
    "reader = sitk.ImageSeriesReader()\n",
    "reader.SetFileNames(fnames)\n",
    "# 开启对metadata的读取\n",
    "reader.MetaDataDictionaryArrayUpdateOn()\n",
    "reader.LoadPrivateTagsOn()\n",
    "\n",
    "img = reader.Execute()"
   ],
   "metadata": {
    "collapsed": false,
    "pycharm": {
     "name": "#%%\n"
    }
   }
  },
  {
   "cell_type": "code",
   "execution_count": 7,
   "outputs": [
    {
     "name": "stdout",
     "output_type": "stream",
     "text": [
      "基本信息：\n",
      "size\t\t:(512, 512, 698)\n",
      "dimension\t:3\n",
      "origin\t\t:(-389.23828125, -628.73828125, -1244.3)\n",
      "spacing\t\t:(1.5234375, 1.5234375, 1.4)\n",
      "direction\t:(1.0, 0.0, 0.0, 0.0, 1.0, 0.0, 0.0, 0.0, 1.0)\n",
      "dtype\t\t:16-bit signed integer\n"
     ]
    }
   ],
   "source": [
    "basic_info = (\n",
    "    (\"size\\t\", img.GetSize()),\n",
    "    (\"dimension\", img.GetDimension()),\n",
    "    (\"origin\\t\", img.GetOrigin()),\n",
    "    (\"spacing\\t\", img.GetSpacing()),\n",
    "    (\"direction\", img.GetDirection()),\n",
    "    (\"dtype\\t\", sitk.GetPixelIDValueAsString(img.GetPixelID())),\n",
    ")\n",
    "print(\"基本信息：\")\n",
    "for info in basic_info:\n",
    "    print(f\"{info[0]}\\t:{info[1]}\")"
   ],
   "metadata": {
    "collapsed": false,
    "pycharm": {
     "name": "#%%\n"
    }
   }
  },
  {
   "cell_type": "code",
   "execution_count": 8,
   "outputs": [
    {
     "name": "stdout",
     "output_type": "stream",
     "text": [
      "全部MetaData:\n",
      "0008|0005 全等,值为ISO_IR 192\n",
      "0008|0008 全等,值为DERIVED\\PRIMARY\\AXIAL\\CT_SOM5 SPI \n",
      "0008|0016 全等,值为1.2.840.10008.5.1.4.1.1.2\n",
      "0008|0018 *************有698个值\n",
      "0008|0020 全等,值为20190513\n",
      "0008|0021 全等,值为20190513\n",
      "0008|0030 全等,值为170434.535000 \n",
      "0008|0031 全等,值为170611.353000 \n",
      "0008|0050 全等,值为A10173736670\n",
      "0008|0060 全等,值为CT\n",
      "0008|0070 全等,值为SIEMENS \n",
      "0008|0080 全等,值为HUG \n",
      "0008|0081 全等,值为Rue Gabrielle-Perret-Gentil\r\n",
      "Geneve\r\n",
      "District\r\n",
      "CH \n",
      "0008|0090 全等,值为HUG^SRV-ONCO OH-NOR \n",
      "0008|1030 全等,值为PET^PETCT_13_CBM_spc (Adult)\n",
      "0008|103e 全等,值为AC  CT WB  2.0  HD_FoV\n",
      "0008|1070 全等,值为Antonio FIGUEIRAL \n",
      "0008|1090 全等,值为Biograph128 \n",
      "0010|0010 全等,值为CRISP^DOMINIC \n",
      "0010|0020 全等,值为97755225\n",
      "0010|0030 全等,值为19680906\n",
      "0010|0040 全等,值为M \n",
      "0018|0050 全等,值为1.4 \n",
      "0018|0060 全等,值为120 \n",
      "0018|1020 全等,值为VG75B \n",
      "0018|1030 全等,值为PETCT_13_CBM_spc\n",
      "0018|5100 全等,值为FFS \n",
      "0020|000d 全等,值为2.16.840.1.113669.632.20.1211.10003883407\n",
      "0020|000e 全等,值为1.3.12.2.1107.5.1.4.11008.30000019051306533151100015244\n",
      "0020|0010 全等,值为A10173736629\n",
      "0020|0011 全等,值为2 \n",
      "0020|0012 全等,值为2 \n",
      "0020|0013 *************有698个值\n",
      "0020|0032 *************有698个值\n",
      "0020|0037 全等,值为1\\0\\0\\0\\1\\0 \n",
      "0020|0052 全等,值为1.3.12.2.1107.5.1.4.11008.30000019051308052531500000047\n",
      "0020|1040 全等,值为\n",
      "0028|0002 全等,值为1\n",
      "0028|0004 全等,值为MONOCHROME2 \n",
      "0028|0010 全等,值为512\n",
      "0028|0011 全等,值为512\n",
      "0028|0030 全等,值为1.5234375\\1.5234375 \n",
      "0028|0100 全等,值为16\n",
      "0028|0101 全等,值为12\n",
      "0028|0102 全等,值为11\n",
      "0028|0103 全等,值为0\n",
      "0028|1050 全等,值为40\\300\n",
      "0028|1051 全等,值为300\\1500\n",
      "0028|1052 全等,值为-1024 \n",
      "0028|1053 全等,值为1 \n",
      "0028|1054 全等,值为HU\n",
      "ITK_original_direction 全等,值为[UNKNOWN_PRINT_CHARACTERISTICS]\n",
      "\n",
      "ITK_original_spacing 全等,值为[UNKNOWN_PRINT_CHARACTERISTICS]\n",
      "\n"
     ]
    }
   ],
   "source": [
    "print(\"全部MetaData:\")\n",
    "for key in reader.GetMetaDataKeys(slice=0):\n",
    "    values = []\n",
    "    for slice in range(img.GetSize()[2]):\n",
    "        values.append(reader.GetMetaData(slice, key))\n",
    "    values_set = set(values)\n",
    "    if len(values_set) == 1:\n",
    "        print(f\"{key} 全等,值为{reader.GetMetaData(0, key)}\")\n",
    "    else:\n",
    "        print(f\"{key} *************有{len(values_set)}个值\")"
   ],
   "metadata": {
    "collapsed": false,
    "pycharm": {
     "name": "#%%\n"
    }
   }
  },
  {
   "cell_type": "code",
   "execution_count": 9,
   "outputs": [
    {
     "name": "stdout",
     "output_type": "stream",
     "text": [
      "关键相同MetaData：\n",
      "0008|0008, ImageType:\t DERIVED\\PRIMARY\\AXIAL\\CT_SOM5 SPI \n",
      "0008|0021, SeriesDate:\t 20190513\n",
      "0008|0031, SeriesTime:\t 170611.353000 \n",
      "0008|0060, Modality:\t CT\n",
      "0008|1030, StudyDescription:\t PET^PETCT_13_CBM_spc (Adult)\n",
      "0008|103e, SeriesDescription:\t AC  CT WB  2.0  HD_FoV\n",
      "0020|000e, SeriesInstanceUID:\t 1.3.12.2.1107.5.1.4.11008.30000019051306533151100015244\n",
      "0020|0037, ImageOrientationPatient:\t 1\\0\\0\\0\\1\\0 \n",
      "0010|0010, PatientName:\t CRISP^DOMINIC \n",
      "0028|0100, BitsAllocated:\t 16\n",
      "0028|0101, BitsStored\t:\t 12\n",
      "0028|0102, HighBit\t:\t 11\n",
      "0028|0103, PixelRepresentation:\t 0\n"
     ]
    }
   ],
   "source": [
    "\"\"\"\n",
    "print(\"SliceLocation:\\t\\t\", reader.GetMetaData(\"0020|1041\"))\n",
    "print(\"ImagePositionPatient:\\t\", reader.GetMetaData(\"0020|0032\"))\n",
    "\"\"\"\n",
    "print(\"关键相同MetaData：\")\n",
    "common_tags = [\n",
    "    (\"0008|0008\", \"ImageType\"),\n",
    "    (\"0008|0021\", \"SeriesDate\"),\n",
    "    (\"0008|0031\", \"SeriesTime\"),\n",
    "    (\"0008|0060\", \"Modality\"),\n",
    "    (\"0008|1030\", \"StudyDescription\"),  # DeepViewer中显示\n",
    "    (\"0008|103e\", \"SeriesDescription\"), # DeepViewer中显示\n",
    "    (\"0020|000e\", \"SeriesInstanceUID\"),\n",
    "    (\"0020|0037\", \"ImageOrientationPatient\"),\n",
    "\n",
    "    (\"0010|0010\", \"PatientName\"),\n",
    "\n",
    "    (\"0028|0100\", \"BitsAllocated\"),\n",
    "    (\"0028|0101\", \"BitsStored\\t\"),\n",
    "    (\"0028|0102\", \"HighBit\\t\"),\n",
    "    (\"0028|0103\", \"PixelRepresentation\"), # 0:unsigned, 1:signed\n",
    "]\n",
    "for tag in common_tags:\n",
    "    print(f\"{tag[0]}, {tag[1]}:\\t {reader.GetMetaData(slice=0, key=tag[0])}\")"
   ],
   "metadata": {
    "collapsed": false,
    "pycharm": {
     "name": "#%%\n"
    }
   }
  },
  {
   "cell_type": "code",
   "source": [
    "print(\"关键不同MetaData:\")\n",
    "different_tags = [\n",
    "    (\"0020|0013\", \"InstanceNumber\"),\n",
    "    (\"0020|0032\", \"ImagePositionPatient\"),\n",
    "]\n",
    "for tag in different_tags:\n",
    "    print(f\"{tag[0]}, {tag[1]}:\\t {reader.GetMetaData(slice=697, key=tag[0])}\")"
   ],
   "metadata": {
    "collapsed": false,
    "pycharm": {
     "name": "#%%\n"
    }
   },
   "execution_count": 10,
   "outputs": [
    {
     "name": "stdout",
     "output_type": "stream",
     "text": [
      "关键不同MetaData:\n",
      "0020|0013, InstanceNumber:\t 1 \n",
      "0020|0032, ImagePositionPatient:\t -389.23828125\\-628.73828125\\-268.5\n"
     ]
    }
   ]
  },
  {
   "cell_type": "code",
   "execution_count": 11,
   "outputs": [
    {
     "name": "stdout",
     "output_type": "stream",
     "text": [
      "dict_keys(['1', '2'])\n"
     ]
    }
   ],
   "source": [
    "kwargs = {\n",
    "    \"1\": 11,\n",
    "    \"2\": 22,\n",
    "}\n",
    "print(kwargs.keys())"
   ],
   "metadata": {
    "collapsed": false,
    "pycharm": {
     "name": "#%%\n"
    }
   }
  },
  {
   "cell_type": "markdown",
   "source": [
    "## 写文件"
   ],
   "metadata": {
    "collapsed": false,
    "pycharm": {
     "name": "#%% md\n"
    }
   }
  },
  {
   "cell_type": "code",
   "execution_count": 12,
   "outputs": [
    {
     "data": {
      "text/plain": "('BMPImageIO',\n 'BioRadImageIO',\n 'Bruker2dseqImageIO',\n 'GDCMImageIO',\n 'GE4ImageIO',\n 'GE5ImageIO',\n 'GiplImageIO',\n 'HDF5ImageIO',\n 'JPEGImageIO',\n 'JPEG2000ImageIO',\n 'LSMImageIO',\n 'MINCImageIO',\n 'MRCImageIO',\n 'MetaImageIO',\n 'NiftiImageIO',\n 'NrrdImageIO',\n 'PNGImageIO',\n 'StimulateImageIO',\n 'TIFFImageIO',\n 'VTKImageIO')"
     },
     "execution_count": 12,
     "metadata": {},
     "output_type": "execute_result"
    }
   ],
   "source": [
    "writer = sitk.ImageFileWriter()\n",
    "writer.GetRegisteredImageIOs()"
   ],
   "metadata": {
    "collapsed": false,
    "pycharm": {
     "name": "#%%\n"
    }
   }
  },
  {
   "cell_type": "markdown",
   "source": [
    "## 测试\n",
    "### 1. MetaData"
   ],
   "metadata": {
    "collapsed": false,
    "pycharm": {
     "name": "#%% md\n"
    }
   }
  },
  {
   "cell_type": "code",
   "execution_count": 13,
   "outputs": [
    {
     "name": "stdout",
     "output_type": "stream",
     "text": [
      "全部MetaData:\n",
      "0008|0016 全等,值为1.2.840.10008.5.1.4.1.1.2\n",
      "0008|0018 *************有851个值\n",
      "0008|0020 全等,值为20220427\n",
      "0008|0021 全等,值为20220427\n",
      "0008|0030 全等,值为103702\n",
      "0008|0031 全等,值为103702\n",
      "0008|0050 全等,值为\n",
      "0008|0060 全等,值为CT\n",
      "0008|0090 全等,值为\n",
      "0010|0010 全等,值为test name \n",
      "0010|0020 全等,值为\n",
      "0010|0030 全等,值为\n",
      "0010|0040 全等,值为\n",
      "0020|000d 全等,值为1.20220427.1103702\n",
      "0020|000e 全等,值为1.2.826.0.1.3680043.2.1125.20220427.1103702\n",
      "0020|0010 全等,值为\n",
      "0020|0011 全等,值为\n",
      "0020|0013 *************有851个值\n",
      "0020|0032 *************有851个值\n",
      "0020|0037 全等,值为1\\0\\0\\0\\1\\0 \n",
      "0028|0002 全等,值为1\n",
      "0028|0004 全等,值为MONOCHROME2 \n",
      "0028|0010 全等,值为512\n",
      "0028|0011 全等,值为512\n",
      "0028|0030 全等,值为.683000028133392\\.683000028133392 \n",
      "0028|0100 全等,值为16\n",
      "0028|0101 全等,值为16\n",
      "0028|0102 全等,值为15\n",
      "0028|0103 全等,值为1\n",
      "0028|1052 全等,值为0 \n",
      "0028|1053 全等,值为1 \n",
      "0028|1054 全等,值为US\n",
      "ITK_original_direction 全等,值为[UNKNOWN_PRINT_CHARACTERISTICS]\n",
      "\n",
      "ITK_original_spacing 全等,值为[UNKNOWN_PRINT_CHARACTERISTICS]\n",
      "\n"
     ]
    }
   ],
   "source": [
    "fnames = sitk.ImageSeriesReader.GetGDCMSeriesFileNames(r\"E:\\other program\\DCMProcessor\\dataset\\ct_dcm\")\n",
    "uid = sitk.ImageSeriesReader.GetGDCMSeriesIDs(r\"E:\\other program\\DCMProcessor\\dataset\\ct_dcm\")\n",
    "reader = sitk.ImageSeriesReader()\n",
    "reader.SetFileNames(fnames)\n",
    "# 开启对metadata的读取\n",
    "reader.MetaDataDictionaryArrayUpdateOn()\n",
    "reader.LoadPrivateTagsOn()\n",
    "\n",
    "img = reader.Execute()\n",
    "\n",
    "print(\"全部MetaData:\")\n",
    "for key in reader.GetMetaDataKeys(slice=0):\n",
    "    values = []\n",
    "    for slice in range(img.GetSize()[2]):\n",
    "        values.append(reader.GetMetaData(slice, key))\n",
    "    values_set = set(values)\n",
    "    if len(values_set) == 1:\n",
    "        print(f\"{key} 全等,值为{reader.GetMetaData(0, key)}\")\n",
    "    else:\n",
    "        print(f\"{key} *************有{len(values_set)}个值\")"
   ],
   "metadata": {
    "collapsed": false,
    "pycharm": {
     "name": "#%%\n"
    }
   }
  },
  {
   "cell_type": "markdown",
   "source": [
    "### 2. 图像位置、方向"
   ],
   "metadata": {
    "collapsed": false,
    "pycharm": {
     "name": "#%% md\n"
    }
   }
  },
  {
   "cell_type": "code",
   "execution_count": 14,
   "outputs": [
    {
     "name": "stdout",
     "output_type": "stream",
     "text": [
      "导出的DCM：\n",
      "size\t\t:(512, 512, 851)\n",
      "dimension\t:3\n",
      "origin\t\t:(-190.283203125, -174.658203125, 1274.5)\n",
      "spacing\t\t:(0.683000028133392, 0.683000028133392, 0.8000000119209295)\n",
      "direction\t:(1.0, 0.0, 0.0, 0.0, 1.0, 0.0, 0.0, 0.0, 1.0)\n",
      "dtype\t\t:16-bit signed integer\n",
      "原始nii:\n",
      "size\t\t:(512, 512, 851)\n",
      "dimension\t:3\n",
      "origin\t\t:(-190.283203125, -174.658203125, 1274.5)\n",
      "spacing\t\t:(0.6830000281333923, 0.6830000281333923, 0.800000011920929)\n",
      "direction\t:(1.0, 0.0, 0.0, 0.0, 1.0, 0.0, 0.0, 0.0, 1.0)\n",
      "dtype\t\t:16-bit signed integer\n"
     ]
    }
   ],
   "source": [
    "print(\"导出的DCM：\")\n",
    "fnames = sitk.ImageSeriesReader.GetGDCMSeriesFileNames(r\"E:\\other program\\DCMProcessor\\dataset\\ct_dcm\")\n",
    "uid = sitk.ImageSeriesReader.GetGDCMSeriesIDs(r\"E:\\other program\\DCMProcessor\\dataset\\ct_dcm\")\n",
    "reader = sitk.ImageSeriesReader()\n",
    "reader.SetFileNames(fnames)\n",
    "reader.MetaDataDictionaryArrayUpdateOn()\n",
    "reader.LoadPrivateTagsOn()\n",
    "img = reader.Execute()\n",
    "basic_info = (\n",
    "    (\"size\\t\", img.GetSize()),\n",
    "    (\"dimension\", img.GetDimension()),\n",
    "    (\"origin\\t\", img.GetOrigin()),\n",
    "    (\"spacing\\t\", img.GetSpacing()),\n",
    "    (\"direction\", img.GetDirection()),\n",
    "    (\"dtype\\t\", sitk.GetPixelIDValueAsString(img.GetPixelID())),\n",
    ")\n",
    "for info in basic_info:\n",
    "    print(f\"{info[0]}\\t:{info[1]}\")\n",
    "\n",
    "print(\"原始nii:\")\n",
    "reader = sitk.ImageFileReader()\n",
    "reader.SetFileName(r\"E:\\other program\\DCMProcessor\\dataset\\ct.nii\")\n",
    "img = reader.Execute()\n",
    "basic_info = (\n",
    "    (\"size\\t\", img.GetSize()),\n",
    "    (\"dimension\", img.GetDimension()),\n",
    "    (\"origin\\t\", img.GetOrigin()),\n",
    "    (\"spacing\\t\", img.GetSpacing()),\n",
    "    (\"direction\", img.GetDirection()),\n",
    "    (\"dtype\\t\", sitk.GetPixelIDValueAsString(img.GetPixelID())),\n",
    ")\n",
    "for info in basic_info:\n",
    "    print(f\"{info[0]}\\t:{info[1]}\")"
   ],
   "metadata": {
    "collapsed": false,
    "pycharm": {
     "name": "#%%\n"
    }
   }
  },
  {
   "cell_type": "code",
   "execution_count": 14,
   "outputs": [],
   "source": [],
   "metadata": {
    "collapsed": false,
    "pycharm": {
     "name": "#%%\n"
    }
   }
  }
 ],
 "metadata": {
  "kernelspec": {
   "display_name": "Python 3",
   "language": "python",
   "name": "python3"
  },
  "language_info": {
   "codemirror_mode": {
    "name": "ipython",
    "version": 2
   },
   "file_extension": ".py",
   "mimetype": "text/x-python",
   "name": "python",
   "nbconvert_exporter": "python",
   "pygments_lexer": "ipython2",
   "version": "2.7.6"
  }
 },
 "nbformat": 4,
 "nbformat_minor": 0
}