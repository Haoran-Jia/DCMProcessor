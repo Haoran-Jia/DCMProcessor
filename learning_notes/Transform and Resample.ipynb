{
 "cells": [
  {
   "cell_type": "markdown",
   "id": "525337a2",
   "metadata": {},
   "source": [
    "# 简介"
   ]
  },
  {
   "cell_type": "markdown",
   "id": "1a8adc04",
   "metadata": {},
   "source": [
    "图像变换（Transform）指对图像进行平移、旋转、各种扭曲等等操作，典型的如全等变换（identity tansform）、平移变换（translation transform）、仿射变换（affine transform）等等，不同的变换有不同的运算参数。\n",
    "\n",
    "变换理论上可以是连续的（至少大部分），但是实际上在计算机中图像由像素点表示，进行变换后必然像素点物理位置的变化，因而需要进行广义的重采样（resample）操作来确定每个格点的值，过程类似于：\n",
    "\n",
    "离散图 ----> 连续图 ----> 变换 ----> 变换后的连续图 ----> （广义）重采样 ----> 变换后的离散图\n",
    "\n",
    "因此 transform 和 resample 是紧密联系在一起的，所有的变换后都要进行重采样，而狭义的重采样（指单纯改变图片分辨率）也要借助变换（平移变换）来实现。"
   ]
  },
  {
   "cell_type": "code",
   "execution_count": null,
   "id": "0df21333",
   "metadata": {},
   "outputs": [],
   "source": [
    " "
   ]
  }
 ],
 "metadata": {
  "kernelspec": {
   "display_name": "Python 3 (ipykernel)",
   "language": "python",
   "name": "python3"
  },
  "language_info": {
   "codemirror_mode": {
    "name": "ipython",
    "version": 3
   },
   "file_extension": ".py",
   "mimetype": "text/x-python",
   "name": "python",
   "nbconvert_exporter": "python",
   "pygments_lexer": "ipython3",
   "version": "3.8.5"
  },
  "toc": {
   "base_numbering": 1,
   "nav_menu": {},
   "number_sections": true,
   "sideBar": true,
   "skip_h1_title": false,
   "title_cell": "Table of Contents",
   "title_sidebar": "Contents",
   "toc_cell": false,
   "toc_position": {
    "height": "calc(100% - 180px)",
    "left": "10px",
    "top": "150px",
    "width": "165px"
   },
   "toc_section_display": true,
   "toc_window_display": true
  },
  "varInspector": {
   "cols": {
    "lenName": 16,
    "lenType": 16,
    "lenVar": 40
   },
   "kernels_config": {
    "python": {
     "delete_cmd_postfix": "",
     "delete_cmd_prefix": "del ",
     "library": "var_list.py",
     "varRefreshCmd": "print(var_dic_list())"
    },
    "r": {
     "delete_cmd_postfix": ") ",
     "delete_cmd_prefix": "rm(",
     "library": "var_list.r",
     "varRefreshCmd": "cat(var_dic_list()) "
    }
   },
   "types_to_exclude": [
    "module",
    "function",
    "builtin_function_or_method",
    "instance",
    "_Feature"
   ],
   "window_display": false
  }
 },
 "nbformat": 4,
 "nbformat_minor": 5
}
