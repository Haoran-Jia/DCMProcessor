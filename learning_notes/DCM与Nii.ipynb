{
 "cells": [
  {
   "cell_type": "markdown",
   "id": "7ddf7c9d",
   "metadata": {},
   "source": [
    "# DCM文件"
   ]
  },
  {
   "cell_type": "code",
   "execution_count": 1,
   "id": "d5d80067",
   "metadata": {},
   "outputs": [],
   "source": [
    "import SimpleITK as sitk\n",
    "import os \n",
    "\n",
    "folder_base = r\"E:\\SS-DCMProcessor\\dataset\\dcm2nii\"\n",
    "folder_ct = r\"E:\\SS-DCMProcessor\\dataset\\dcm2nii\\CT\"\n",
    "folder_pet = r\"E:\\SS-DCMProcessor\\dataset\\dcm2nii\\PET\""
   ]
  },
  {
   "cell_type": "code",
   "execution_count": 2,
   "id": "1863dac7",
   "metadata": {},
   "outputs": [],
   "source": [
    "import sys\n",
    "sys.path.append(r'E:\\SS-DCMProcessor')\n",
    "from imp import reload\n",
    "from utlis import DICOM\n",
    "from utlis import Image\n",
    "\n",
    "%matplotlib notebook\n",
    "import matplotlib.pyplot as plt"
   ]
  },
  {
   "cell_type": "markdown",
   "id": "8d3face2",
   "metadata": {},
   "source": [
    "读取"
   ]
  },
  {
   "cell_type": "code",
   "execution_count": 3,
   "id": "26dee7fe",
   "metadata": {},
   "outputs": [],
   "source": [
    "ct, reader_ct = DICOM.DCMBase.ReadDCMSeries(folder_ct, load_metadata=True)\n",
    "pet, reader_pet = DICOM.DCMBase.ReadDCMSeries(folder_pet, load_metadata=True)"
   ]
  },
  {
   "cell_type": "markdown",
   "id": "6272bcfe",
   "metadata": {},
   "source": [
    "分析基本信息"
   ]
  },
  {
   "cell_type": "code",
   "execution_count": 5,
   "id": "13c5ddec",
   "metadata": {},
   "outputs": [
    {
     "name": "stdout",
     "output_type": "stream",
     "text": [
      "Size: \t\t (512, 512, 322)\n",
      "Spacing: \t (1.5234375, 1.5234375, 3.0)\n",
      "Origin: \t (-389.23828125, -563.23828125, -1011.0)\n",
      "Direction: \t (1.0, 0.0, 0.0, 0.0, 1.0, 0.0, 0.0, 0.0, 1.0)\n",
      "PixelID: \t 2\n",
      "PixelType: \t 16-bit signed integer\n"
     ]
    }
   ],
   "source": [
    "reload(Image)\n",
    "Image.Image.PrintBasicInfo(ct)"
   ]
  },
  {
   "cell_type": "code",
   "execution_count": 15,
   "id": "da1b5c02",
   "metadata": {},
   "outputs": [
    {
     "name": "stdout",
     "output_type": "stream",
     "text": [
      "Size: \t\t (512, 512, 322)\n",
      "Spacing: \t (1.5234375, 1.5234375, 3.0)\n",
      "Origin: \t (-389.23828125, -563.23828125, -1011.0)\n",
      "Direction: \t (1.0, 0.0, 0.0, 0.0, 1.0, 0.0, 0.0, 0.0, 1.0)\n",
      "PixelID: \t 2\n",
      "PixelType: \t 16-bit signed integer\n"
     ]
    }
   ],
   "source": [
    "ct_directly = sitk.ReadImage(r\"E:\\SS-DCMProcessor\\dataset\\dcm2nii\\CT_directly.nii\")\n",
    "Image.Image.PrintBasicInfo(ct_directly)"
   ]
  },
  {
   "cell_type": "code",
   "execution_count": 17,
   "id": "dd3af3be",
   "metadata": {},
   "outputs": [
    {
     "name": "stdout",
     "output_type": "stream",
     "text": [
      "Size: \t\t (512, 512, 322)\n",
      "Spacing: \t (1.5234375, 1.5234375, 3.0)\n",
      "Origin: \t (-389.23828125, -563.23828125, -1011.0)\n",
      "Direction: \t (1.0, 0.0, 0.0, 0.0, 1.0, 0.0, 0.0, 0.0, 1.0)\n",
      "PixelID: \t 2\n",
      "PixelType: \t 16-bit signed integer\n"
     ]
    }
   ],
   "source": [
    "ct_flip = sitk.ReadImage(r\"E:\\SS-DCMProcessor\\dataset\\dcm2nii\\CT_flip.nii\")\n",
    "Image.Image.PrintBasicInfo(ct_flip)"
   ]
  },
  {
   "cell_type": "code",
   "execution_count": 6,
   "id": "eece9eac",
   "metadata": {},
   "outputs": [
    {
     "name": "stdout",
     "output_type": "stream",
     "text": [
      "Size: \t\t (200, 200, 322)\n",
      "Spacing: \t (4.07283, 4.07283, 3.0)\n",
      "Origin: \t (-404.855, -580.822, -1011.0)\n",
      "Direction: \t (1.0, 0.0, 0.0, 0.0, 1.0, 0.0, 0.0, 0.0, 1.0)\n",
      "PixelID: \t 9\n",
      "PixelType: \t 64-bit float\n"
     ]
    }
   ],
   "source": [
    "Image.Image.PrintBasicInfo(pet)"
   ]
  },
  {
   "cell_type": "code",
   "execution_count": 16,
   "id": "66bb0e97",
   "metadata": {},
   "outputs": [
    {
     "name": "stdout",
     "output_type": "stream",
     "text": [
      "Size: \t\t (200, 200, 322)\n",
      "Spacing: \t (4.0728302001953125, 4.0728302001953125, 3.0)\n",
      "Origin: \t (-404.8550109863281, -580.822021484375, -1011.0)\n",
      "Direction: \t (1.0, 0.0, 0.0, 0.0, 1.0, 0.0, 0.0, 0.0, 1.0)\n",
      "PixelID: \t 9\n",
      "PixelType: \t 64-bit float\n"
     ]
    }
   ],
   "source": [
    "pet_directly = sitk.ReadImage(r\"E:\\SS-DCMProcessor\\dataset\\dcm2nii\\PET_directly.nii\")\n",
    "Image.Image.PrintBasicInfo(pet_directly)"
   ]
  },
  {
   "cell_type": "markdown",
   "id": "125bc8d2",
   "metadata": {},
   "source": [
    "MetaData"
   ]
  },
  {
   "cell_type": "code",
   "execution_count": 8,
   "id": "c1d2b30e",
   "metadata": {},
   "outputs": [
    {
     "name": "stdout",
     "output_type": "stream",
     "text": [
      "0020|000e: Series Instance UID           \t1.3.12.2.1107.5.1.4.11003.30000019061807094631700003123\n",
      "0010|0010: Patient's name                \tARMIJOS DE DUQUE^ROSA,MARIA \n",
      "0018|0008: Image Type                    \t\n",
      "0028|0101: Bits Stored                   \t12\n",
      "0008|0050: Slice Thickness               \tA10174843116\n",
      "0028|0030: Pixel Spacing                 \t1.5234375\\1.5234375 \n",
      "0028|0010: Rows                          \t512\n",
      "0028|0011: Columns                       \t512\n",
      "0020|0037: Image Orientation (Patient)   \t1\\0\\0\\0\\1\\0 \n",
      "\n",
      "0020|0013: Instance Number               \t322  : 1  : 1.0\n",
      "0020|1041: Slice Location                \t1011 : 48 : 3.0\n",
      "\n",
      "0020|0032: Image Position (Patient)      \t-389.23828125\\-563.23828125\\-1011  ,-1011  : -48  : -3.0\n"
     ]
    }
   ],
   "source": [
    "reload(DICOM)\n",
    "DICOM.DCMBase.PrintImportantMetaData(reader_ct)"
   ]
  },
  {
   "cell_type": "code",
   "execution_count": 9,
   "id": "e49c80cb",
   "metadata": {},
   "outputs": [
    {
     "name": "stdout",
     "output_type": "stream",
     "text": [
      "0020|000e: Series Instance UID           \t1.3.12.2.1107.5.1.4.11003.30000019061807104712400002188\n",
      "0010|0010: Patient's name                \tARMIJOS DE DUQUE^ROSA,MARIA \n",
      "0018|0008: Image Type                    \t\n",
      "0028|0101: Bits Stored                   \t16\n",
      "0008|0050: Slice Thickness               \tA10174843116\n",
      "0028|0030: Pixel Spacing                 \t4.07283\\4.07283 \n",
      "0028|0010: Rows                          \t200\n",
      "0028|0011: Columns                       \t200\n",
      "0020|0037: Image Orientation (Patient)   \t1\\0\\0\\0\\1\\0 \n",
      "\n",
      "0020|0013: Instance Number               \t1  : 322  : -1.0\n",
      "0020|1041: Slice Location                \t1011 : 48 : 3.0\n",
      "\n",
      "0020|0032: Image Position (Patient)      \t-404.855\\-580.822\\-1011  ,-1011  : -48  : -3.0\n"
     ]
    }
   ],
   "source": [
    "reload(DICOM)\n",
    "DICOM.DCMBase.PrintImportantMetaData(reader_pet)"
   ]
  },
  {
   "cell_type": "code",
   "execution_count": 13,
   "id": "b4deab01",
   "metadata": {},
   "outputs": [],
   "source": []
  },
  {
   "cell_type": "code",
   "execution_count": null,
   "id": "4cf3b1d7",
   "metadata": {},
   "outputs": [],
   "source": []
  },
  {
   "cell_type": "code",
   "execution_count": null,
   "id": "49492924",
   "metadata": {
    "scrolled": false
   },
   "outputs": [],
   "source": []
  },
  {
   "cell_type": "code",
   "execution_count": null,
   "id": "007978d1",
   "metadata": {},
   "outputs": [],
   "source": []
  }
 ],
 "metadata": {
  "kernelspec": {
   "display_name": "Python 3 (ipykernel)",
   "language": "python",
   "name": "python3"
  },
  "language_info": {
   "codemirror_mode": {
    "name": "ipython",
    "version": 3
   },
   "file_extension": ".py",
   "mimetype": "text/x-python",
   "name": "python",
   "nbconvert_exporter": "python",
   "pygments_lexer": "ipython3",
   "version": "3.8.5"
  },
  "toc": {
   "base_numbering": 1,
   "nav_menu": {},
   "number_sections": true,
   "sideBar": true,
   "skip_h1_title": false,
   "title_cell": "Table of Contents",
   "title_sidebar": "Contents",
   "toc_cell": false,
   "toc_position": {},
   "toc_section_display": true,
   "toc_window_display": false
  },
  "varInspector": {
   "cols": {
    "lenName": 16,
    "lenType": 16,
    "lenVar": 40
   },
   "kernels_config": {
    "python": {
     "delete_cmd_postfix": "",
     "delete_cmd_prefix": "del ",
     "library": "var_list.py",
     "varRefreshCmd": "print(var_dic_list())"
    },
    "r": {
     "delete_cmd_postfix": ") ",
     "delete_cmd_prefix": "rm(",
     "library": "var_list.r",
     "varRefreshCmd": "cat(var_dic_list()) "
    }
   },
   "types_to_exclude": [
    "module",
    "function",
    "builtin_function_or_method",
    "instance",
    "_Feature"
   ],
   "window_display": false
  }
 },
 "nbformat": 4,
 "nbformat_minor": 5
}
