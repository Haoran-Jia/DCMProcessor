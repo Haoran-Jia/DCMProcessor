{
 "cells": [
  {
   "cell_type": "code",
   "execution_count": 6,
   "metadata": {
    "collapsed": true
   },
   "outputs": [],
   "source": [
    "import numpy as np"
   ]
  },
  {
   "cell_type": "code",
   "execution_count": 18,
   "outputs": [
    {
     "name": "stdout",
     "output_type": "stream",
     "text": [
      "[[0]\n",
      " [3]\n",
      " [4]]\n",
      "3\n"
     ]
    }
   ],
   "source": [
    "x = np.array([3,1,2,3,3])\n",
    "max_index = np.argwhere(x == x.max())\n",
    "print(max_index)\n",
    "print(max_index[1,0])"
   ],
   "metadata": {
    "collapsed": false,
    "pycharm": {
     "name": "#%%\n"
    }
   }
  },
  {
   "cell_type": "code",
   "execution_count": 34,
   "outputs": [
    {
     "name": "stdout",
     "output_type": "stream",
     "text": [
      "<re.Match object; span=(11, 19), match='0.75  B2'>\n"
     ]
    }
   ],
   "source": [
    "import re\n",
    "CT_PATTEN = {\n",
    "    \"WholeBody CTA\": r\"CTA 1.0 CE\",\n",
    "    \"Aortic CTA\": r\"CTA 1.0 CE\",\n",
    "    \"CTA\": r\"0.75 B2\",\n",
    "    \"Aortic Dissection\": r\"Recon 2_CTA|0.75 *B2\"\n",
    "}\n",
    "\n",
    "a = re.search(CT_PATTEN[\"Aortic Dissection\"], \"BodyAngio  0.75  B20f\")\n",
    "print(a)"
   ],
   "metadata": {
    "collapsed": false,
    "pycharm": {
     "name": "#%%\n"
    }
   }
  },
  {
   "cell_type": "code",
   "execution_count": 7,
   "outputs": [
    {
     "name": "stdout",
     "output_type": "stream",
     "text": [
      "hh\n"
     ]
    }
   ],
   "source": [
    "a = [re.search(\"\\d\", l) for l in [\"a\", \"b\", \"1\", \"c\"]]\n",
    "if a:\n",
    "    print(\"hh\")"
   ],
   "metadata": {
    "collapsed": false,
    "pycharm": {
     "name": "#%%\n"
    }
   }
  },
  {
   "cell_type": "code",
   "execution_count": 24,
   "outputs": [],
   "source": [
    "li = [None, None, 1, 1]\n",
    "a = [bool(l) for l in li]"
   ],
   "metadata": {
    "collapsed": false,
    "pycharm": {
     "name": "#%%\n"
    }
   }
  },
  {
   "cell_type": "code",
   "execution_count": 25,
   "outputs": [
    {
     "data": {
      "text/plain": "2"
     },
     "execution_count": 25,
     "metadata": {},
     "output_type": "execute_result"
    }
   ],
   "source": [
    "sum(a)"
   ],
   "metadata": {
    "collapsed": false,
    "pycharm": {
     "name": "#%%\n"
    }
   }
  },
  {
   "cell_type": "code",
   "execution_count": 31,
   "outputs": [],
   "source": [
    "import pandas as pd\n",
    "EXCEL_COLUMNS = [\"index\", \"f1\", \"f2\", \"f3\", \"Exception\", \"ct_name\", \"ct\", \"seg\", \"AAO\", \"BCT\", \"DAO\", \"LCCA\", \"LSA\"]\n",
    "f = pd.DataFrame(columns=EXCEL_COLUMNS)\n",
    "\n",
    "f.loc[len(f), \"f1\"] = \"ha\""
   ],
   "metadata": {
    "collapsed": false,
    "pycharm": {
     "name": "#%%\n"
    }
   }
  },
  {
   "cell_type": "code",
   "execution_count": 32,
   "outputs": [
    {
     "name": "stdout",
     "output_type": "stream",
     "text": [
      "dataset\\haha\n"
     ]
    }
   ],
   "source": [
    "import os\n",
    "f1 = \"dataset\"\n",
    "f2 = \"haha\"\n",
    "print(os.path.join(f1, f2))\n"
   ],
   "metadata": {
    "collapsed": false,
    "pycharm": {
     "name": "#%%\n"
    }
   }
  },
  {
   "cell_type": "code",
   "execution_count": 35,
   "outputs": [
    {
     "name": "stdout",
     "output_type": "stream",
     "text": [
      "12.0\n",
      "6.0\n",
      "4.0\n",
      "Error\n",
      "3.0\n"
     ]
    }
   ],
   "source": [
    "l = [1, 2, 3, 0, 4]\n",
    "\n",
    "for i in l:\n",
    "    try:\n",
    "        print(12/i)\n",
    "    except:\n",
    "        print(\"Error\")\n"
   ],
   "metadata": {
    "collapsed": false,
    "pycharm": {
     "name": "#%%\n"
    }
   }
  },
  {
   "cell_type": "code",
   "execution_count": null,
   "outputs": [],
   "source": [],
   "metadata": {
    "collapsed": false,
    "pycharm": {
     "name": "#%%\n"
    }
   }
  }
 ],
 "metadata": {
  "kernelspec": {
   "name": "jupy",
   "language": "python",
   "display_name": "'Python(base)'"
  },
  "language_info": {
   "codemirror_mode": {
    "name": "ipython",
    "version": 2
   },
   "file_extension": ".py",
   "mimetype": "text/x-python",
   "name": "python",
   "nbconvert_exporter": "python",
   "pygments_lexer": "ipython2",
   "version": "2.7.6"
  }
 },
 "nbformat": 4,
 "nbformat_minor": 0
}